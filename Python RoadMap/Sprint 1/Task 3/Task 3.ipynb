{
 "cells": [
  {
   "cell_type": "markdown",
   "metadata": {},
   "source": [
    "# Question 1\n",
    "Write a Python program to count the number of characters (character frequency) in a string.\n",
    "\n",
    "Examble: ('google.com') =>  {'g': 2, 'o': 3, 'l': 1, 'e': 1, '.': 1, 'c': 1, 'm': 1}\n"
   ]
  },
  {
   "cell_type": "code",
   "execution_count": 1,
   "metadata": {},
   "outputs": [
    {
     "name": "stdout",
     "output_type": "stream",
     "text": [
      "google\n",
      "Counter({'g': 2, 'o': 2, 'l': 1, 'e': 1})\n"
     ]
    },
    {
     "data": {
      "text/plain": [
       "{'g': 2, 'o': 2, 'l': 1, 'e': 1}"
      ]
     },
     "execution_count": 1,
     "metadata": {},
     "output_type": "execute_result"
    }
   ],
   "source": [
    "from collections import Counter\n",
    "S = input()\n",
    "print(Counter(S))  ### built in function\n",
    "count = {}\n",
    "for i in S :\n",
    "    count[i]=count.get(i , 0)+1 #### get >> to return 0 if i isnot in dic else return counter of i \n",
    "count"
   ]
  },
  {
   "cell_type": "markdown",
   "metadata": {},
   "source": [
    "# Question  2"
   ]
  },
  {
   "cell_type": "markdown",
   "metadata": {},
   "source": [
    "Write a Python program to get a string from a given string where all occurrences of its first char have been changed to '$', except the first char itself.\n",
    "\n",
    "Examble => 'restart' => 'resta$t'\n",
    "           'google'  => 'goo$le'"
   ]
  },
  {
   "cell_type": "code",
   "execution_count": 2,
   "metadata": {},
   "outputs": [
    {
     "name": "stdout",
     "output_type": "stream",
     "text": [
      "restart\n",
      "resta$t\n",
      "googleg\n"
     ]
    },
    {
     "data": {
      "text/plain": [
       "'goo$le$'"
      ]
     },
     "execution_count": 2,
     "metadata": {},
     "output_type": "execute_result"
    }
   ],
   "source": [
    "S = list(input())\n",
    "tmp = S[0] ## to save the first char \n",
    "n = len(S)\n",
    "for i in range(1,n): ### skip the first char\n",
    "    if S[i] == tmp :\n",
    "        S[i] = '$'\n",
    "print(''.join(S))\n",
    "S = input()\n",
    "S = S[0]+S[1:].replace(S[0] , '$')\n",
    "S"
   ]
  },
  {
   "cell_type": "markdown",
   "metadata": {},
   "source": [
    "# Question 3"
   ]
  },
  {
   "cell_type": "markdown",
   "metadata": {},
   "source": [
    "Write a Python program to get a single string from two given strings, separated by a space and swap the first two characters of each string.\n",
    "Examble : 'abc', 'xyz' => xyc abz"
   ]
  },
  {
   "cell_type": "code",
   "execution_count": 4,
   "metadata": {},
   "outputs": [
    {
     "name": "stdout",
     "output_type": "stream",
     "text": [
      "'abc' 'xyz' \n"
     ]
    },
    {
     "data": {
      "text/plain": [
       "\"'xyz' 'abc'\""
      ]
     },
     "execution_count": 4,
     "metadata": {},
     "output_type": "execute_result"
    }
   ],
   "source": [
    "S = input().split()\n",
    "' '.join(S[::-1]) ## swap = to reverse"
   ]
  },
  {
   "cell_type": "markdown",
   "metadata": {},
   "source": [
    "# Question 4"
   ]
  },
  {
   "cell_type": "markdown",
   "metadata": {},
   "source": [
    "Write a Python program to add 'ing' at the end of a given string (length should be at least 3). If the given string already ends with 'ing' then add 'ly' instead. If the string length of the given string is less than 3, leave it unchanged.\n",
    "Examble => ab => ab\n",
    "        => abc => abcing \n",
    "        => string => stringly"
   ]
  },
  {
   "cell_type": "code",
   "execution_count": 5,
   "metadata": {},
   "outputs": [
    {
     "name": "stdout",
     "output_type": "stream",
     "text": [
      "ab\n",
      "ab\n",
      "abc\n",
      "abcing\n",
      "string\n",
      "stringly\n"
     ]
    }
   ],
   "source": [
    "def solution():\n",
    "    S = input()\n",
    "    if len(S) < 3 :  ## first case\n",
    "        return S\n",
    "    if S[-3:] == 'ing': ##string already ends with 'ing' then add 'ly' \n",
    "        return S +'ly'\n",
    "    \n",
    "    ## to add 'ing' at the end of the string\n",
    "    return S+'ing'\n",
    "print(solution())\n",
    "print(solution())\n",
    "print(solution())"
   ]
  },
  {
   "cell_type": "markdown",
   "metadata": {},
   "source": [
    "# Question 5"
   ]
  },
  {
   "cell_type": "markdown",
   "metadata": {},
   "source": [
    "Write a Python script to display the various Date Time formats.\n",
    "\n",
    "a) Current date and time\n",
    "b) Current year\n",
    "c) Month of year\n",
    "d) Week number of the year\n",
    "e) Weekday of the week\n",
    "f) Day of year\n",
    "g) Day of the month\n",
    "h) Day of week\n",
    "Solution=>\n",
    "import time\n",
    "import datetime"
   ]
  },
  {
   "cell_type": "code",
   "execution_count": 6,
   "metadata": {},
   "outputs": [
    {
     "name": "stdout",
     "output_type": "stream",
     "text": [
      "Current date and time  2020-08-11 19:55:30.088400\n",
      "Current Year 2020\n",
      "Current month 8\n",
      "Week number of the year 32\n",
      "Weekday number of the year 2\n",
      "Day of the Year   224\n",
      "Day of the week  Tuesday\n"
     ]
    }
   ],
   "source": [
    "from time import*\n",
    "from  datetime import *\n",
    "print(\"Current date and time \" , datetime.now())\n",
    "today = datetime.today() \n",
    "print(\"Current Year\" ,today.year)\n",
    "print(\"Current month\" , today.month)\n",
    "print(\"Week number of the year\" ,today.strftime(\"%W\"))\n",
    "print(\"Weekday number of the year\" , today.strftime(\"%w\"))\n",
    "print(\"Day of the Year  \"  ,today.strftime(\"%j\"))\n",
    "print(\"Day of the week \" ,today.strftime(\"%A\"))"
   ]
  },
  {
   "cell_type": "markdown",
   "metadata": {},
   "source": [
    "# Question 6"
   ]
  },
  {
   "cell_type": "markdown",
   "metadata": {},
   "source": [
    "Write a Python program to print yesterday, today, tomorrow.\n",
    "\n",
    "Yesterday :  2020-01-17\n",
    "Today :  2020-01-18\n",
    "Tomorrow :  2020-01-19\n",
    "Solution=>\n",
    "import datetime"
   ]
  },
  {
   "cell_type": "code",
   "execution_count": 7,
   "metadata": {},
   "outputs": [
    {
     "name": "stdout",
     "output_type": "stream",
     "text": [
      "today 2020-08-11\n",
      "yesterday 2020-08-10\n",
      "tomorrow 2020-08-12\n"
     ]
    }
   ],
   "source": [
    "today = date.today() \n",
    "print(\"today\" , today)\n",
    "yesterday = today - timedelta(days = 1) \n",
    "print(\"yesterday\" , yesterday)\n",
    "tomorrow = today + timedelta(days = 1) \n",
    "print(\"tomorrow\" , tomorrow)"
   ]
  },
  {
   "cell_type": "markdown",
   "metadata": {},
   "source": [
    "# Question 7"
   ]
  },
  {
   "cell_type": "markdown",
   "metadata": {},
   "source": [
    "\n",
    "Write a Python program to add 5 seconds with the current time.\n",
    "\n",
    "\n",
    "Current time=> 13:09:38.491219\n",
    "After 5 seconds => 13:09:43.491219"
   ]
  },
  {
   "cell_type": "code",
   "execution_count": 8,
   "metadata": {},
   "outputs": [
    {
     "data": {
      "text/plain": [
       "datetime.datetime(2020, 8, 11, 19, 55, 39, 537377)"
      ]
     },
     "execution_count": 8,
     "metadata": {},
     "output_type": "execute_result"
    }
   ],
   "source": [
    "tmp = datetime.now()\n",
    "after_5sec = tmp + timedelta(0 , 5)\n",
    "after_5sec"
   ]
  },
  {
   "cell_type": "markdown",
   "metadata": {},
   "source": [
    "# Question 8"
   ]
  },
  {
   "cell_type": "markdown",
   "metadata": {},
   "source": [
    "Write a Python program to convert Year/Month/Day to Day of Year."
   ]
  },
  {
   "cell_type": "code",
   "execution_count": 10,
   "metadata": {},
   "outputs": [
    {
     "data": {
      "text/plain": [
       "'224'"
      ]
     },
     "execution_count": 10,
     "metadata": {},
     "output_type": "execute_result"
    }
   ],
   "source": [
    "today.strftime(\"%j\")"
   ]
  },
  {
   "cell_type": "markdown",
   "metadata": {},
   "source": [
    "# Question 9"
   ]
  },
  {
   "cell_type": "markdown",
   "metadata": {},
   "source": [
    "Write a Python program to get current time in milliseconds."
   ]
  },
  {
   "cell_type": "code",
   "execution_count": 11,
   "metadata": {},
   "outputs": [
    {
     "data": {
      "text/plain": [
       "1597164955215"
      ]
     },
     "execution_count": 11,
     "metadata": {},
     "output_type": "execute_result"
    }
   ],
   "source": [
    "from time import time \n",
    "\n",
    "milliseconds = int(time() * 1000) \n",
    "milliseconds"
   ]
  },
  {
   "cell_type": "markdown",
   "metadata": {},
   "source": [
    "# Question 10"
   ]
  },
  {
   "cell_type": "markdown",
   "metadata": {},
   "source": [
    "Write a Python program to get week number."
   ]
  },
  {
   "cell_type": "code",
   "execution_count": 12,
   "metadata": {},
   "outputs": [
    {
     "data": {
      "text/plain": [
       "'32'"
      ]
     },
     "execution_count": 12,
     "metadata": {},
     "output_type": "execute_result"
    }
   ],
   "source": [
    "today.strftime(\"%W\")"
   ]
  },
  {
   "cell_type": "markdown",
   "metadata": {},
   "source": [
    "# Question 11"
   ]
  },
  {
   "cell_type": "markdown",
   "metadata": {},
   "source": [
    "Write a Python program that matches a string that has an 'a' followed by anything, ending in 'b'."
   ]
  },
  {
   "cell_type": "code",
   "execution_count": 13,
   "metadata": {},
   "outputs": [
    {
     "name": "stdout",
     "output_type": "stream",
     "text": [
      "abbc\n",
      " matched\n",
      "ab\n",
      " matched\n"
     ]
    }
   ],
   "source": [
    "S = input()\n",
    "print(['Not matched' , ' matched']['ab' in S])\n",
    "S = input()\n",
    "print(['Not matched' , ' matched']['ab' in S])\n"
   ]
  },
  {
   "cell_type": "markdown",
   "metadata": {},
   "source": [
    "# Question 12"
   ]
  },
  {
   "cell_type": "markdown",
   "metadata": {},
   "source": [
    "Write a Python program to calculate the area of a trapezoid."
   ]
  },
  {
   "cell_type": "code",
   "execution_count": 13,
   "metadata": {},
   "outputs": [
    {
     "name": "stdout",
     "output_type": "stream",
     "text": [
      "2\n",
      "3\n",
      "5\n"
     ]
    },
    {
     "data": {
      "text/plain": [
       "12.5"
      ]
     },
     "execution_count": 13,
     "metadata": {},
     "output_type": "execute_result"
    }
   ],
   "source": [
    "def area_of_trapezoid():\n",
    "    ###  (a+b)*h/2\n",
    "    a = float(input())\n",
    "    b = float(input())\n",
    "    h= float(input())\n",
    "    return (a+b) * h * .5\n",
    "area_of_trapezoid()"
   ]
  },
  {
   "cell_type": "code",
   "execution_count": null,
   "metadata": {},
   "outputs": [],
   "source": []
  }
 ],
 "metadata": {
  "kernelspec": {
   "display_name": "Python 3",
   "language": "python",
   "name": "python3"
  },
  "language_info": {
   "codemirror_mode": {
    "name": "ipython",
    "version": 3
   },
   "file_extension": ".py",
   "mimetype": "text/x-python",
   "name": "python",
   "nbconvert_exporter": "python",
   "pygments_lexer": "ipython3",
   "version": "3.7.0"
  }
 },
 "nbformat": 4,
 "nbformat_minor": 2
}
