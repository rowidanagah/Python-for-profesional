{
 "cells": [
  {
   "cell_type": "markdown",
   "metadata": {},
   "source": [
    "# Question 1"
   ]
  },
  {
   "cell_type": "markdown",
   "metadata": {},
   "source": [
    "### collections.Counter()\n",
    "\n"
   ]
  },
  {
   "cell_type": "markdown",
   "metadata": {},
   "source": [
    "Raghu is a shoe shop owner. His shop has X number of shoes.\n",
    "He has a list containing the size of each shoe he has in his shop.\n",
    "There are N number of customers who are willing to pay xi amount of money only if they get the shoe of their desired size.\n",
    "\n",
    "Your task is to compute how much money Raghu earned."
   ]
  },
  {
   "cell_type": "code",
   "execution_count": 2,
   "metadata": {},
   "outputs": [
    {
     "name": "stdout",
     "output_type": "stream",
     "text": [
      "10\n",
      "2 3 4 5 6 8 7 6 5 18\n",
      "3\n",
      "6 55\n",
      "4 40\n",
      "10 50\n",
      "95\n"
     ]
    }
   ],
   "source": [
    "\"\"\"\n",
    "# Enter your code here. Read input from STDIN. Print output to STDOUT\n",
    "n = int(input())\n",
    "l = list(map(int , input().split()))\n",
    "lset = [] ; s = list(set(l))\n",
    "x =int(input())\n",
    "cost = 0\n",
    "for i in s:\n",
    "    lset.append(l.count(i))\n",
    "\n",
    "for j in range(x):\n",
    "    a,b=map(int , input().split())\n",
    "    if a in s:\n",
    "        k = s.index(a)\n",
    "        if lset[k]:\n",
    "            lset[k]-=1\n",
    "            cost+=b\n",
    "            #print(cost)\n",
    "    \n",
    "print(cost)    \n",
    "\"\"\"\n",
    "from collections import Counter\n",
    "\n",
    "input()\n",
    "\n",
    "#collections.Counter([iterable , mapping or dictionary]) , return a dictionary for counting hashable objects keys and its number of occurrence\n",
    "C = Counter(list(map(int , input().split())))\n",
    "\n",
    "ans = 0\n",
    "# range(start , end , inc_val)\n",
    "for i in range(int(input())):\n",
    "    # map(fun, iter)\n",
    "    size , cost = map(int , input().split())\n",
    "    if size in C : # if this size is available\n",
    "        ans += cost\n",
    "        C[size]-=1\n",
    "        if C[size] == 0 : # to delet this size if its counting is equl to 0\n",
    "            C.pop(size)\n",
    "    #print(C)\n",
    "print(ans)"
   ]
  },
  {
   "cell_type": "markdown",
   "metadata": {},
   "source": [
    "# Question 2"
   ]
  },
  {
   "cell_type": "markdown",
   "metadata": {},
   "source": [
    "### DefaultDict Tutorial\n",
    "\n"
   ]
  },
  {
   "cell_type": "markdown",
   "metadata": {},
   "source": [
    "In this challenge, you will be given 2 integers, n and m . There are n words, which might repeat, in word group A. There are  m words belonging to word group B. For each m words, check whether the word has appeared in group A or not. Print the indices of each occurrence of m in group . If it does not appear, print A."
   ]
  },
  {
   "cell_type": "code",
   "execution_count": 14,
   "metadata": {},
   "outputs": [
    {
     "name": "stdout",
     "output_type": "stream",
     "text": [
      "5 2\n",
      "a\n",
      "a\n",
      "b\n",
      "a\n",
      "b\n",
      "a\n",
      "1 2 4\n",
      "b\n",
      "3 5\n"
     ]
    }
   ],
   "source": [
    "from collections import defaultdict\n",
    "\n",
    "n , m =map(int,input().split())\n",
    "\n",
    "# collections.defaultdict(default_factory)\n",
    "d= defaultdict(list)\n",
    "\n",
    "for i in range(1 , n+1): # to make the posiotn count strats from 1 up to n\n",
    "    l=input()\n",
    "    # to assign every index to its key\n",
    "    d[l].append(i) \n",
    "    \n",
    "for j in range(m):\n",
    "    \n",
    "    # string.strip([chars])\n",
    "    s=input().strip()\n",
    "    \n",
    "    if s in d:\n",
    "        print(*d[s])\n",
    "    \n",
    "    else:\n",
    "        print('-1')\n"
   ]
  },
  {
   "cell_type": "markdown",
   "metadata": {},
   "source": [
    "# Question 3"
   ]
  },
  {
   "cell_type": "markdown",
   "metadata": {},
   "source": [
    "### Collections.namedtuple()\n",
    "\n"
   ]
  },
  {
   "cell_type": "markdown",
   "metadata": {},
   "source": [
    "Dr. John Wesley has a spreadsheet containing a list of student's IDs, Marks , class and name .\n",
    "\n",
    "Your task is to help Dr. Wesley calculate the average marks of the students."
   ]
  },
  {
   "cell_type": "code",
   "execution_count": 18,
   "metadata": {},
   "outputs": [
    {
     "name": "stdout",
     "output_type": "stream",
     "text": [
      "5\n",
      "ID         MARKS      NAME       CLASS     \n",
      "1          97         Raymond    7         \n",
      "2          50         Steven     4         \n",
      "4          72         Stewart    5         \n",
      "5          80         Peter      6   \n",
      "3          91         Adrian     9         \n",
      "78.0\n"
     ]
    }
   ],
   "source": [
    "from collections import namedtuple\n",
    "\n",
    "N = int(input())\n",
    "\n",
    "#string_name.join(iterable) \n",
    "columns = ','.join(input().split())\n",
    "\n",
    "#namedtuple(typename, field_names) , returns a tuple subclass with field_names (parametar 2)\n",
    "Student = namedtuple('Student', columns)\n",
    "\n",
    "SUM = 0\n",
    "for i in range(N):\n",
    "    line = input().split()\n",
    "    student = Student(*line)\n",
    "    # access by name\n",
    "    SUM += int(student.MARKS)\n",
    "\n",
    "print(SUM / N)\n"
   ]
  },
  {
   "cell_type": "markdown",
   "metadata": {},
   "source": [
    "# Question 4"
   ]
  },
  {
   "cell_type": "markdown",
   "metadata": {},
   "source": [
    "### Collections.OrderedDict()\n",
    "\n"
   ]
  },
  {
   "cell_type": "markdown",
   "metadata": {},
   "source": [
    "You are the manager of a supermarket.\n",
    "You have a list of N items together with their prices that consumers bought on a particular day.\n",
    "Your task is to print each item_name and net_price in order of its first occurrence.\n",
    "\n",
    "item_name = Name of the item.\n",
    "net_price = Quantity of the item sold multiplied by the price of each item."
   ]
  },
  {
   "cell_type": "code",
   "execution_count": 19,
   "metadata": {},
   "outputs": [
    {
     "name": "stdout",
     "output_type": "stream",
     "text": [
      "9\n",
      "BANANA FRIES 12\n",
      "POTATO CHIPS 30\n",
      "POTATO CHIPS 30\n",
      "CANDY 5\n",
      "APPLE JUICE 10\n",
      "APPLE JUICE 10\n",
      "CANDY 5\n",
      "CANDY 5\n",
      "CANDY 5\n",
      "BANANA FRIES 12\n",
      "POTATO CHIPS 60\n",
      "CANDY 20\n",
      "APPLE JUICE 20\n"
     ]
    }
   ],
   "source": [
    "from collections import OrderedDict\n",
    "# class collections.OrderedDict([items])\n",
    "d= OrderedDict()\n",
    "\n",
    "for i in range(int(input())):\n",
    "    l = input().split()\n",
    "    p= int(l[-1])\n",
    "    key= ' '.join(l[:-1])\n",
    "    \n",
    "    #dict_name.get(key, default=None)\n",
    "    if d.get(key):# if we have got this key before\n",
    "        d[key] += p # inc its val by p\n",
    "    else :\n",
    "        d[key] = p # creat a new key and assign its val by p\n",
    "        \n",
    "for i in d.keys():\n",
    "    print(i , d[i])\n"
   ]
  },
  {
   "cell_type": "markdown",
   "metadata": {},
   "source": [
    "# Question 5"
   ]
  },
  {
   "cell_type": "markdown",
   "metadata": {},
   "source": [
    "### Word Order\n",
    "\n"
   ]
  },
  {
   "cell_type": "code",
   "execution_count": 22,
   "metadata": {},
   "outputs": [
    {
     "name": "stdout",
     "output_type": "stream",
     "text": [
      "4\n",
      "bcdef\n",
      "abcdefg\n",
      "bcde\n",
      "bcdef\n",
      "3\n",
      "2 1 1\n"
     ]
    }
   ],
   "source": [
    "l = []\n",
    "for i in range(int(input())):\n",
    "    l.append(input())\n",
    "    \n",
    "print(len(Counter(l)))\n",
    "print(*Counter(l).values())"
   ]
  },
  {
   "cell_type": "markdown",
   "metadata": {},
   "source": [
    "# Question 6"
   ]
  },
  {
   "cell_type": "markdown",
   "metadata": {},
   "source": [
    "### Collections.deque()\n",
    "\n"
   ]
  },
  {
   "cell_type": "code",
   "execution_count": 24,
   "metadata": {},
   "outputs": [
    {
     "name": "stdout",
     "output_type": "stream",
     "text": [
      "6\n",
      "append 1\n",
      "append 2\n",
      "append 3\n",
      "appendleft 4\n",
      "pop\n",
      "popleft\n",
      "1 2\n"
     ]
    }
   ],
   "source": [
    "\n",
    "from collections import deque\n",
    "\n",
    "d = deque()\n",
    "\n",
    "for _ in range(int(input())):\n",
    "    arg = input().split()\n",
    "    tmp = arg[0]\n",
    "    if (tmp == 'append'):\n",
    "        d.append(arg[1])\n",
    "        \n",
    "    elif (tmp == 'pop'):\n",
    "        d.pop()\n",
    "        \n",
    "    elif (tmp == 'popleft'):\n",
    "        d.popleft()\n",
    "    \n",
    "    elif (tmp == 'appendleft'):\n",
    "        d.appendleft(arg[1])\n",
    "\n",
    "print (' '.join(d))"
   ]
  },
  {
   "cell_type": "markdown",
   "metadata": {},
   "source": [
    "# Question 7"
   ]
  },
  {
   "cell_type": "code",
   "execution_count": 47,
   "metadata": {},
   "outputs": [
    {
     "name": "stdout",
     "output_type": "stream",
     "text": [
      "qwertyuiopasdfghjklzxcvbnm\n",
      "a 1\n",
      "b 1\n",
      "c 1\n"
     ]
    }
   ],
   "source": [
    "#!/bin/python3\n",
    "\n",
    "import math\n",
    "import os\n",
    "import random\n",
    "import re\n",
    "import sys\n",
    "\n",
    "import collections\n",
    "\n",
    "\n",
    "if __name__ == '__main__':\n",
    "\n",
    "    s = sorted(input().strip())\n",
    "    s_counter = collections.Counter(s).most_common()\n",
    "    for i in s_counter[:3]:\n",
    "        print(*i)\n"
   ]
  },
  {
   "cell_type": "code",
   "execution_count": 49,
   "metadata": {},
   "outputs": [
    {
     "name": "stdout",
     "output_type": "stream",
     "text": [
      "qwertyuiopasdfghjklzxcvbnm\n",
      "a 1\n",
      "b 1\n",
      "c 1\n"
     ]
    }
   ],
   "source": [
    "#!/bin/python3\n",
    "\n",
    "import math\n",
    "import os\n",
    "import random\n",
    "import re\n",
    "import sys\n",
    "\n",
    "from collections import Counter\n",
    "\n",
    "\n",
    "if __name__ == '__main__':\n",
    "\n",
    "    s = sorted(input().strip())\n",
    "    C = Counter(s)\n",
    "    # sort(obj , key , reverse = False)\n",
    "    sorted_C = sorted([[i , C[i]] for i in C] , key = lambda x: x[-1] , reverse = True)[:3]\n",
    "   # print(sorted_C)\n",
    "    for i in sorted_C:\n",
    "        print(*i)\n"
   ]
  },
  {
   "cell_type": "code",
   "execution_count": null,
   "metadata": {},
   "outputs": [],
   "source": []
  }
 ],
 "metadata": {
  "kernelspec": {
   "display_name": "Python 3",
   "language": "python",
   "name": "python3"
  },
  "language_info": {
   "codemirror_mode": {
    "name": "ipython",
    "version": 3
   },
   "file_extension": ".py",
   "mimetype": "text/x-python",
   "name": "python",
   "nbconvert_exporter": "python",
   "pygments_lexer": "ipython3",
   "version": "3.7.0"
  }
 },
 "nbformat": 4,
 "nbformat_minor": 2
}
