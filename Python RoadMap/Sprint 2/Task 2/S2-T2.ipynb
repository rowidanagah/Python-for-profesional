{
 "cells": [
  {
   "cell_type": "markdown",
   "metadata": {},
   "source": [
    "# Question 1 :"
   ]
  },
  {
   "cell_type": "markdown",
   "metadata": {},
   "source": [
    "## List Comprehensions"
   ]
  },
  {
   "cell_type": "markdown",
   "metadata": {},
   "source": [
    "Given 3 numbers x,y,z , Print a list of all possible coordinates given by (i,j,h) on a 3D grid where \n",
    "the sum of i+j+h not equal to n "
   ]
  },
  {
   "cell_type": "code",
   "execution_count": 2,
   "metadata": {},
   "outputs": [
    {
     "name": "stdout",
     "output_type": "stream",
     "text": [
      "1\n",
      "1\n",
      "1\n",
      "2\n",
      "[[0, 0, 0], [0, 0, 1], [0, 1, 0], [1, 0, 0], [1, 1, 1]]\n"
     ]
    }
   ],
   "source": [
    "x = int(input())\n",
    "y = int(input())\n",
    "z = int(input())\n",
    "n = int(input())\n",
    "\"\"\"\n",
    "for i in range of 0 to x\n",
    "for j in range of 0 to y\n",
    "for h in range of 0 to z\n",
    "if i + j + h not equal to given n , we will append list [i,j,h]\n",
    "\n",
    "\"\"\"\n",
    "l = [[i,j,h] for i in range(x+1) for j in range(y+1) for h in range(z+1) if i+j+h != n]\n",
    "print(l)"
   ]
  },
  {
   "cell_type": "markdown",
   "metadata": {},
   "source": [
    "# Question 2 :"
   ]
  },
  {
   "cell_type": "markdown",
   "metadata": {},
   "source": [
    "## Find the Runner-Up Score!"
   ]
  },
  {
   "cell_type": "markdown",
   "metadata": {},
   "source": [
    "Given the participants' score sheet for your University Sports Day, you are required to find the runner-up score. You are given n scores. Store them in a list and find\n",
    "the score of the runner-up"
   ]
  },
  {
   "cell_type": "code",
   "execution_count": 3,
   "metadata": {},
   "outputs": [
    {
     "name": "stdout",
     "output_type": "stream",
     "text": [
      "5\n",
      "2 3 6 6 5\n",
      "5\n"
     ]
    }
   ],
   "source": [
    "input()\n",
    "# to sort and then return the second from the end \n",
    "### using set to remove duplicate elements\n",
    "## map(fun, iter)\n",
    "print(sorted(set(map(int , input().split())))[-2])"
   ]
  },
  {
   "cell_type": "markdown",
   "metadata": {},
   "source": [
    "# Question 3 :"
   ]
  },
  {
   "cell_type": "markdown",
   "metadata": {},
   "source": [
    "## Nested Lists"
   ]
  },
  {
   "cell_type": "markdown",
   "metadata": {},
   "source": [
    "Given the names and grades for each student in a class of N students, store them in a nested list and print the name(s) of any student(s) having the second lowest grade."
   ]
  },
  {
   "cell_type": "code",
   "execution_count": 8,
   "metadata": {},
   "outputs": [
    {
     "name": "stdout",
     "output_type": "stream",
     "text": [
      "5\n",
      "Harry\n",
      "37.21\n",
      "Berry\n",
      "37.21\n",
      "Tina\n",
      "37.2\n",
      "Akriti\n",
      "41\n",
      "Harsh\n",
      "39\n"
     ]
    },
    {
     "data": {
      "text/plain": [
       "[['Harry', 37.21],\n",
       " ['Berry', 37.21],\n",
       " ['Tina', 37.2],\n",
       " ['Akriti', 41.0],\n",
       " ['Harsh', 39.0]]"
      ]
     },
     "execution_count": 8,
     "metadata": {},
     "output_type": "execute_result"
    }
   ],
   "source": [
    "l = [[input(), float(input())] for i in range(int(input()))]\n",
    "l"
   ]
  },
  {
   "cell_type": "code",
   "execution_count": 12,
   "metadata": {},
   "outputs": [
    {
     "data": {
      "text/plain": [
       "[['Tina', 37.2],\n",
       " ['Berry', 37.21],\n",
       " ['Harry', 37.21],\n",
       " ['Harsh', 39.0],\n",
       " ['Akriti', 41.0]]"
      ]
     },
     "execution_count": 12,
     "metadata": {},
     "output_type": "execute_result"
    }
   ],
   "source": [
    "### sort based on grades and names\n",
    "l = sorted(l , key = lambda x : (x[1],x[0]))\n",
    "l"
   ]
  },
  {
   "cell_type": "code",
   "execution_count": 18,
   "metadata": {},
   "outputs": [
    {
     "name": "stdout",
     "output_type": "stream",
     "text": [
      "Berry\n",
      "Harry\n"
     ]
    }
   ],
   "source": [
    "tmp = sorted(set([x[1] for x in l]))[1]\n",
    "for i in [j[0] for j in l if j[-1] == tmp]:\n",
    "    print(i)"
   ]
  },
  {
   "cell_type": "markdown",
   "metadata": {},
   "source": [
    "# Question 4 :"
   ]
  },
  {
   "cell_type": "markdown",
   "metadata": {},
   "source": [
    "## Finding the percentage"
   ]
  },
  {
   "cell_type": "markdown",
   "metadata": {},
   "source": [
    "\n",
    "The provided code stub will read in a dictionary containing key/value pairs of name:[marks] for a list of students. Print the average of the marks array for the student name provided, showing 2 places after the decimal"
   ]
  },
  {
   "cell_type": "code",
   "execution_count": 20,
   "metadata": {},
   "outputs": [
    {
     "name": "stdout",
     "output_type": "stream",
     "text": [
      "3\n",
      "Krishna 67 68 69\n",
      "Arjun 70 98 63\n",
      "Malika 52 56 60\n",
      "Malika\n",
      "56.00\n"
     ]
    }
   ],
   "source": [
    "## lambda arg ::: any number of arguments : exp :: only one expression\n",
    "x= lambda : list(input().split())\n",
    "s = [list(x()) for i in range(int(input()))]\n",
    "check=input()\n",
    "for j in range(len(s)):\n",
    "    if s[j][0] == check :\n",
    "        Sum= (float(s[j][1])+  float(s[j][2]) + float(s[j][3])) /3\n",
    "        print('{0:.2f}'.format(Sum))"
   ]
  },
  {
   "cell_type": "markdown",
   "metadata": {},
   "source": [
    "# Question 5:"
   ]
  },
  {
   "cell_type": "markdown",
   "metadata": {},
   "source": [
    "## Lists\n"
   ]
  },
  {
   "cell_type": "markdown",
   "metadata": {},
   "source": [
    "Consider a list (list = []). You can perform the following commands:\n",
    "\n",
    "    -insert i e: Insert integer e at position i.\n",
    "    -print: Print the list.\n",
    "    -remove e: Delete the first occurrence of integer .\n",
    "    -append e: Insert integer e at the end of the list.\n",
    "    -sort: Sort the list.\n",
    "    -pop: Pop the last element from the list.\n",
    "    -reverse: Reverse the list."
   ]
  },
  {
   "cell_type": "code",
   "execution_count": 22,
   "metadata": {},
   "outputs": [
    {
     "name": "stdout",
     "output_type": "stream",
     "text": [
      "12\n",
      "insert 0 5\n",
      "insert 1 10\n",
      "insert 0 6\n",
      "print\n",
      "[6, 5, 10]\n",
      "remove 6\n",
      "append 1\n",
      "append 9\n",
      "sort\n",
      "print\n",
      "[1, 5, 9, 10]\n",
      "pop\n",
      "reverse\n",
      "print\n",
      "[9, 5, 1]\n"
     ]
    }
   ],
   "source": [
    "def delat(l,e):\n",
    "    for i in range(len(l)):\n",
    "        if l[i] == e:\n",
    "            ## del list_name[start:stop:step] \n",
    "            del [l[i]]\n",
    "            break\n",
    "    return l\n",
    "def pushat(l , i ,e):\n",
    "    l= l.insert(i,e)\n",
    "    return l\n",
    "\n",
    "if __name__ == '__main__':\n",
    "    arr=[]\n",
    "    N = int(input())\n",
    "    \n",
    "    for i in range(N):\n",
    "        l = list(input().split())\n",
    "        \n",
    "        if l[0] == \"insert\" :\n",
    "            pushat(arr, int(l[1]) , int( l[-1]))\n",
    "            \n",
    "        if l[0] ==\"print\":\n",
    "            print(arr)\n",
    "            \n",
    "        if l[0] ==\"remove\":\n",
    "            arr = delat(arr , int(l[1]))\n",
    "            \n",
    "        if l[0] == \"pop\":\n",
    "            arr.pop()\n",
    "            \n",
    "        if l[0] == \"reverse\":\n",
    "            arr.reverse()\n",
    "            \n",
    "        if l[0]== \"sort\":\n",
    "            arr.sort()\n",
    "            \n",
    "        if l[0] ==\"append\":\n",
    "            arr.append(int(l[1]))"
   ]
  },
  {
   "cell_type": "markdown",
   "metadata": {},
   "source": [
    "# Question 6 :"
   ]
  },
  {
   "cell_type": "markdown",
   "metadata": {},
   "source": [
    "## Tuples"
   ]
  },
  {
   "cell_type": "markdown",
   "metadata": {},
   "source": [
    "Given an integer,n , and n space-separated integers as input, create a tuple, t , of those n integers. Then compute and print the result of hash(t)"
   ]
  },
  {
   "cell_type": "code",
   "execution_count": 23,
   "metadata": {},
   "outputs": [
    {
     "name": "stdout",
     "output_type": "stream",
     "text": [
      "2\n",
      "1 2\n",
      "3713081631934410656\n"
     ]
    }
   ],
   "source": [
    "# hash(obj) >>> to encode immutable object only \n",
    "if __name__ == '__main__':\n",
    "    input()\n",
    "    \n",
    "    #integer_list = map(int, input().split())\n",
    "    l = tuple(map(int , input().split()))\n",
    "    print(hash(l))"
   ]
  },
  {
   "cell_type": "code",
   "execution_count": null,
   "metadata": {},
   "outputs": [],
   "source": []
  }
 ],
 "metadata": {
  "kernelspec": {
   "display_name": "Python 3",
   "language": "python",
   "name": "python3"
  },
  "language_info": {
   "codemirror_mode": {
    "name": "ipython",
    "version": 3
   },
   "file_extension": ".py",
   "mimetype": "text/x-python",
   "name": "python",
   "nbconvert_exporter": "python",
   "pygments_lexer": "ipython3",
   "version": "3.7.0"
  }
 },
 "nbformat": 4,
 "nbformat_minor": 2
}
