{
 "cells": [
  {
   "cell_type": "markdown",
   "metadata": {},
   "source": [
    "# Question 1 "
   ]
  },
  {
   "cell_type": "markdown",
   "metadata": {},
   "source": [
    "## Introduction to Sets\n",
    "\n"
   ]
  },
  {
   "cell_type": "code",
   "execution_count": 3,
   "metadata": {},
   "outputs": [
    {
     "name": "stdout",
     "output_type": "stream",
     "text": [
      "10\n",
      "161 182 161 154 176 170 167 171 170 174\n",
      "169.375\n"
     ]
    }
   ],
   "source": [
    "def average(arr):\n",
    "    # your code goes here\n",
    "    arr = set(arr)\n",
    "    s = sum(arr)\n",
    "    return s / len(arr)\n",
    "\n",
    "if __name__ == '__main__':\n",
    "    n = int(input())\n",
    "    arr = list(map(int, input().split()))\n",
    "    result = average(arr)\n",
    "    print(result)"
   ]
  },
  {
   "cell_type": "markdown",
   "metadata": {},
   "source": [
    "# Question 2 :"
   ]
  },
  {
   "cell_type": "markdown",
   "metadata": {},
   "source": [
    "## No Idea!\n",
    "\n"
   ]
  },
  {
   "cell_type": "code",
   "execution_count": 5,
   "metadata": {},
   "outputs": [
    {
     "name": "stdout",
     "output_type": "stream",
     "text": [
      "3 2\n",
      "1 5 3\n",
      "3 1\n",
      "5 7\n",
      "1\n"
     ]
    }
   ],
   "source": [
    "# Enter your code here. Read input from STDIN. Print output to STDOUT\n",
    "input()\n",
    "l = list(map(int , input().split()))\n",
    "a = set(map(int , input().split()))\n",
    "b = set(map(int , input().split()))\n",
    "happiness = 0\n",
    "for i in l :\n",
    "    if i in a :\n",
    "         happiness +=1 ## he is happy add 1\n",
    "    if i in b :\n",
    "        happiness -=1 ## he dislike that Subtract 1\n",
    "        \n",
    "print(happiness)"
   ]
  },
  {
   "cell_type": "markdown",
   "metadata": {},
   "source": [
    "# Question 3 "
   ]
  },
  {
   "cell_type": "markdown",
   "metadata": {},
   "source": [
    "## Symmetric Difference\n",
    "\n"
   ]
  },
  {
   "cell_type": "markdown",
   "metadata": {},
   "source": [
    "Given 2 sets of integers, N and M , print their symmetric difference in ascending order. The term symmetric difference indicates those values that exist in either N or M but do not exist in both."
   ]
  },
  {
   "cell_type": "code",
   "execution_count": 12,
   "metadata": {},
   "outputs": [
    {
     "name": "stdout",
     "output_type": "stream",
     "text": [
      "4\n",
      "2 4 5 9\n",
      "4\n",
      "2 4 11 12\n",
      "5\n",
      "9\n",
      "11\n",
      "12\n"
     ]
    }
   ],
   "source": [
    "# Enter your code here. Read input from STDIN. Print output to STDOUT\n",
    "\n",
    "input()\n",
    "a = set(map(int, input().split()))\n",
    "input()\n",
    "b = set(map(int, input().split()))\n",
    "\n",
    "# set_A.symmetric_difference(set_B) :: equal to the union of set_A and set_B without the intersection between the two.\n",
    "ans = a.symmetric_difference(b)\n",
    "\n",
    "print(*sorted(ans), sep='\\n')\n"
   ]
  },
  {
   "cell_type": "markdown",
   "metadata": {},
   "source": [
    "# Question 4:"
   ]
  },
  {
   "cell_type": "markdown",
   "metadata": {},
   "source": [
    "## Set.add()"
   ]
  },
  {
   "cell_type": "code",
   "execution_count": 13,
   "metadata": {},
   "outputs": [
    {
     "name": "stdout",
     "output_type": "stream",
     "text": [
      "7\n",
      "UK\n",
      "China\n",
      "USA\n",
      "UK\n",
      "France\n",
      "France\n",
      "New Zlanda\n",
      "5\n"
     ]
    }
   ],
   "source": [
    "# Enter your code here. Read input from STDIN. Print output to STDOUT\n",
    "\n",
    "\"\"\"\n",
    "set.name.add(elm) :: takes only one parameter needed to be added , it will add this elm if it was new else gonna do \n",
    "nothing and  it does not return anything \n",
    "\"\"\"\n",
    "n=int(input())\n",
    "s = set()\n",
    "for i in range(n):\n",
    "    s.add(input())\n",
    "print(len(s))\n"
   ]
  },
  {
   "cell_type": "markdown",
   "metadata": {},
   "source": [
    "# Question 5"
   ]
  },
  {
   "cell_type": "markdown",
   "metadata": {},
   "source": [
    "## Set .discard(), .remove() & .pop()\n",
    "\n"
   ]
  },
  {
   "cell_type": "markdown",
   "metadata": {},
   "source": [
    "You have a non-empty set s , and you have to execute N commands given in N lines.\n",
    "\n",
    "The commands will be pop, remove and discard."
   ]
  },
  {
   "cell_type": "code",
   "execution_count": 14,
   "metadata": {},
   "outputs": [
    {
     "name": "stdout",
     "output_type": "stream",
     "text": [
      "9\n",
      "1 2 3 4 5 6 7 8 9\n",
      "10\n",
      "pop\n",
      "remove 9\n",
      "discard 9\n",
      "discard 8\n",
      "reomve 7\n",
      "pop\n",
      "discard 6\n",
      "remove 5\n",
      "pop\n",
      "discard 5\n",
      "7\n"
     ]
    }
   ],
   "source": [
    "\n",
    "n = input()\n",
    "s = set(map(int, input().split()))\n",
    "x = int(input())\n",
    "\n",
    "for i in range(x):\n",
    "    \n",
    "    tmp = input().split()\n",
    "    \n",
    "    # set_name.discard(elm) , to remove the elm from the set only if the element is present in it\n",
    "    elif tmp[0]==\"discard\":\n",
    "        s.discard(int(tmp[1]))\n",
    "    \n",
    "    # set_name.reomve(elm) ,same as discard yet If the element is not present in the set, then an error or exception is raised.\n",
    "    if tmp[0] == \"remove\":\n",
    "        s.remove(int(tmp[1]))\n",
    "\n",
    "    else:\n",
    "        s.pop()\n",
    "        \n",
    "print(sum(list(s)))\n"
   ]
  },
  {
   "cell_type": "markdown",
   "metadata": {},
   "source": [
    "# Qustion 6"
   ]
  },
  {
   "cell_type": "markdown",
   "metadata": {},
   "source": [
    "## Set .union() Operation\n",
    "\n"
   ]
  },
  {
   "cell_type": "markdown",
   "metadata": {},
   "source": [
    "The students of District College have subscriptions to English and French newspapers. Some students have subscribed only to English, some have subscribed to only French and some have subscribed to both newspapers.\n",
    "\n",
    "You are given two sets of student roll numbers. One set has subscribed to the English newspaper, and the other set is subscribed to the French newspaper. The same student could be in both sets. Your task is to find the total number of students who have subscribed to at least one newspaper."
   ]
  },
  {
   "cell_type": "code",
   "execution_count": 15,
   "metadata": {},
   "outputs": [
    {
     "name": "stdout",
     "output_type": "stream",
     "text": [
      "10\n",
      "10 1 2 3 11 21 55 6 8\n",
      "10\n",
      "1 2 3 4 5 6 7 8 9\n",
      "13\n"
     ]
    }
   ],
   "source": [
    "# briefly to return  len of union set a and set b\n",
    "# Enter your code here. Read input from STDIN. Print output to STDOUT\n",
    "\n",
    "input()\n",
    "a = set(map(int, input().split()))\n",
    "\n",
    "input()\n",
    "b = set(map(int, input().split()))\n",
    "\n",
    "## set1.union(set2, set3, set4….) :: it is in parameters and this means it takes any number of sets\n",
    "print(len(a.union(b)))\n"
   ]
  },
  {
   "cell_type": "markdown",
   "metadata": {},
   "source": [
    "# Qustion 7"
   ]
  },
  {
   "cell_type": "markdown",
   "metadata": {},
   "source": [
    "## Set .intersection() Operation\n",
    "\n"
   ]
  },
  {
   "cell_type": "markdown",
   "metadata": {},
   "source": [
    "The students of District College have subscriptions to English and French newspapers. Some students have subscribed only to English, some have subscribed only to French, and some have subscribed to both newspapers.\n",
    "\n",
    "You are given two sets of student roll numbers. One set has subscribed to the English newspaper, one set has subscribed to the French newspaper. Your task is to find the total number of students who have subscribed to both newspapers."
   ]
  },
  {
   "cell_type": "code",
   "execution_count": 17,
   "metadata": {},
   "outputs": [
    {
     "name": "stdout",
     "output_type": "stream",
     "text": [
      "9\n",
      "10 1 2 3 11 21 55 6 8 \n",
      "9\n",
      "1 2 3 4 5 6 7 8 9\n",
      "5\n"
     ]
    }
   ],
   "source": [
    "# Enter your code here. Read input from STDIN. Print output to STDOUT\n",
    "\n",
    "input()\n",
    "a = set(map(int, input().split()))\n",
    "\n",
    "input()\n",
    "b = set(map(int, input().split()))\n",
    "\n",
    "### set1.intersection(set2, set3, set4….) , takes any number of elements\n",
    "print(len(a.intersection(b)))"
   ]
  },
  {
   "cell_type": "markdown",
   "metadata": {},
   "source": [
    "# Question 8"
   ]
  },
  {
   "cell_type": "markdown",
   "metadata": {},
   "source": [
    "## Set .difference() Operation\n",
    "\n"
   ]
  },
  {
   "cell_type": "markdown",
   "metadata": {},
   "source": [
    "\n",
    "Students of District College have a subscription to English and French newspapers. Some students have subscribed to only the English newspaper, some have subscribed to only the French newspaper, and some have subscribed to both newspapers.\n",
    "\n",
    "You are given two sets of student roll numbers. One set has subscribed to the English newspaper, and one set has subscribed to the French newspaper. Your task is to find the total number of students who have subscribed to only English newspapers"
   ]
  },
  {
   "cell_type": "code",
   "execution_count": 18,
   "metadata": {},
   "outputs": [
    {
     "name": "stdout",
     "output_type": "stream",
     "text": [
      "9\n",
      "1 2 3 4 5 6 7 8 9\n",
      "9\n",
      "10 1 2 3 11 21 55 6 8\n",
      "4\n"
     ]
    }
   ],
   "source": [
    "\n",
    "input()\n",
    "a = set(map(int, input().split()))\n",
    "\n",
    "input()\n",
    "b = set(map(int, input().split()))\n",
    "\n",
    "## syntax :: setA.difference(setB) for (setA - setB)\n",
    "print(len(a.difference(b)))"
   ]
  },
  {
   "cell_type": "markdown",
   "metadata": {},
   "source": [
    "# Question 9"
   ]
  },
  {
   "cell_type": "markdown",
   "metadata": {},
   "source": [
    "## Set .symmetric_difference() Operation\n",
    "\n"
   ]
  },
  {
   "cell_type": "markdown",
   "metadata": {},
   "source": [
    "Students of District College have subscriptions to English and French newspapers. Some students have subscribed to English only, some have subscribed to French only, and some have subscribed to both newspapers.\n",
    "\n",
    "You are given two sets of student roll numbers. One set has subscribed to the English newspaper, and one set has subscribed to the French newspaper. Your task is to find the total number of students who have subscribed to either the English or the French newspaper but not both."
   ]
  },
  {
   "cell_type": "code",
   "execution_count": 20,
   "metadata": {},
   "outputs": [
    {
     "name": "stdout",
     "output_type": "stream",
     "text": [
      "9\n",
      "1 2 3 4 5 6 7 8 9\n",
      "9\n",
      "10 1 2 3 11 21 55 6 8\n",
      "8\n"
     ]
    }
   ],
   "source": [
    "# Enter your code here. Read input from STDIN. Print output to STDOUT\n",
    "\n",
    "input()\n",
    "a = set(map(int, input().split()))\n",
    "\n",
    "input()\n",
    "b = set(map(int, input().split()))\n",
    "\n",
    "# set_A.symmetric_difference(set_B) :: equal to the union of set_A and set_B without the intersection between the two.\n",
    "\n",
    "print(len(a.symmetric_difference(b)))"
   ]
  },
  {
   "cell_type": "markdown",
   "metadata": {},
   "source": [
    "# Question 10"
   ]
  },
  {
   "cell_type": "markdown",
   "metadata": {},
   "source": [
    "## Set Mutations\n",
    "\n"
   ]
  },
  {
   "cell_type": "markdown",
   "metadata": {},
   "source": [
    "You are given a set A  and N number of other sets. These  number of sets have to perform some specific mutation operations on set A .\n",
    "\n",
    "Your task is to execute those operations and print the sum of elements from set A."
   ]
  },
  {
   "cell_type": "code",
   "execution_count": 21,
   "metadata": {},
   "outputs": [
    {
     "name": "stdout",
     "output_type": "stream",
     "text": [
      "16\n",
      "1 2 3 4 5 6 7 8 9 10 11 12 13 14 24 52\n",
      "4\n",
      " intersection_update 10\n",
      "2 3 5 6 8 9 1 4 7 11\n",
      "update 2\n",
      "55 66\n",
      "symmetric_difference_update 5\n",
      "22 7 35 62 58\n",
      "difference_update 7\n",
      "11 22 35 55 58 62 66\n",
      "38\n"
     ]
    }
   ],
   "source": [
    "input()\n",
    "a = set(map(int, input().split()))\n",
    "n = int(input())\n",
    "\n",
    "for i in range(n):\n",
    "    l = input().split()\n",
    "    s = set(map(int, input().split()))\n",
    "    \n",
    "    if l[0] == \"intersection_update\":\n",
    "        # set.intersection_update(set1, set2 ... etc)\n",
    "        a.intersection_update(s)\n",
    "        \n",
    "    # Updates a set with the union of itself and others . It same as extend in list\n",
    "    # setA.update(setB)\n",
    "    if l[0] == \"update\":\n",
    "        a.update(s)\n",
    "    \n",
    "    if l[0] == \"symmetric_difference_update\":\n",
    "        a.symmetric_difference_update(s)\n",
    "    \n",
    "    if l[0] ==\"difference_update\" :\n",
    "        a.difference_update(s)\n",
    "        \n",
    "print(sum(a))\n"
   ]
  },
  {
   "cell_type": "markdown",
   "metadata": {},
   "source": [
    "# Question 11"
   ]
  },
  {
   "cell_type": "markdown",
   "metadata": {},
   "source": [
    "## The Captain's Room\n",
    "\n"
   ]
  },
  {
   "cell_type": "code",
   "execution_count": 24,
   "metadata": {},
   "outputs": [
    {
     "name": "stdout",
     "output_type": "stream",
     "text": [
      "5\n",
      "1 2 3 6 5 4 4 2 5 3 6 1 6 5 3 2 4 1 2 5 1 4 3 6 8 4 3 1 5 6 2 \n",
      "8\n"
     ]
    }
   ],
   "source": [
    "# Enter your code here. Read input from STDIN. Print output to STDOU\n",
    "k = int(input())\n",
    "l = list(map(int , input().split()))\n",
    "s = set(l)\n",
    "tmp = sum(s)*k - sum(l) ## temp = the Captain's room number * (k-1)\n",
    "print(tmp //(k-1))\n"
   ]
  },
  {
   "cell_type": "markdown",
   "metadata": {},
   "source": [
    "# Question 12"
   ]
  },
  {
   "cell_type": "markdown",
   "metadata": {},
   "source": [
    "## Check Strict Superset\n",
    "\n"
   ]
  },
  {
   "cell_type": "code",
   "execution_count": 28,
   "metadata": {},
   "outputs": [
    {
     "name": "stdout",
     "output_type": "stream",
     "text": [
      "1 2 3 4 5 6 7 8 9 10 11 12 23 45 84 78\n",
      "2\n",
      "11 12 100\n",
      "False\n"
     ]
    }
   ],
   "source": [
    "S = set(map(int , input().split()))\n",
    "n = int(input())\n",
    "isstrict = True\n",
    "\n",
    "for i in range(n):\n",
    "    s = set(map(int, input().split()))\n",
    "    if not S > s:\n",
    "        isstrict = False\n",
    "        break\n",
    "\n",
    "print(isstrict)\n"
   ]
  },
  {
   "cell_type": "markdown",
   "metadata": {},
   "source": [
    "# Question 13"
   ]
  },
  {
   "cell_type": "markdown",
   "metadata": {},
   "source": [
    "## Check Subset\n",
    "\n"
   ]
  },
  {
   "cell_type": "markdown",
   "metadata": {},
   "source": [
    "You are given two sets, A and B.\n",
    "Your job is to find whether set A  is a subset of set B"
   ]
  },
  {
   "cell_type": "code",
   "execution_count": 29,
   "metadata": {},
   "outputs": [
    {
     "name": "stdout",
     "output_type": "stream",
     "text": [
      "2\n",
      "5\n",
      "1 2 3 5 6\n",
      "8\n",
      "9 8 5 6 3 2 1 4 7\n",
      "True\n",
      "1\n",
      "2\n",
      "5\n",
      "3 6 5 4 1\n",
      "False\n"
     ]
    }
   ],
   "source": [
    "## subset means all A is in B and the intersection of A and B will be set A\n",
    "n = int(input())\n",
    "for i in range(n):\n",
    "    input()\n",
    "    a = set(map(int , input().split()))\n",
    "    input()\n",
    "    b = set(map(int , input().split()))\n",
    "    ## set1.intersection(set2, set3, set4….),  to eturns the intersection of two sets as a new set\n",
    "    print(a.intersection(b) == a)"
   ]
  },
  {
   "cell_type": "code",
   "execution_count": null,
   "metadata": {},
   "outputs": [],
   "source": []
  }
 ],
 "metadata": {
  "kernelspec": {
   "display_name": "Python 3",
   "language": "python",
   "name": "python3"
  },
  "language_info": {
   "codemirror_mode": {
    "name": "ipython",
    "version": 3
   },
   "file_extension": ".py",
   "mimetype": "text/x-python",
   "name": "python",
   "nbconvert_exporter": "python",
   "pygments_lexer": "ipython3",
   "version": "3.7.0"
  }
 },
 "nbformat": 4,
 "nbformat_minor": 2
}
