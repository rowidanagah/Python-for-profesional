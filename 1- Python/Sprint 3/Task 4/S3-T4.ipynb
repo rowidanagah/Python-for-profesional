{
 "cells": [
  {
   "cell_type": "markdown",
   "metadata": {},
   "source": [
    "# Question 1"
   ]
  },
  {
   "cell_type": "markdown",
   "metadata": {},
   "source": [
    "### Detect Floating Point Number\n",
    "\n"
   ]
  },
  {
   "cell_type": "code",
   "execution_count": 1,
   "metadata": {},
   "outputs": [
    {
     "name": "stdout",
     "output_type": "stream",
     "text": [
      "2\n",
      "+4.54\n",
      "True\n",
      "8.00\n",
      "True\n"
     ]
    }
   ],
   "source": [
    "import re\n",
    "# ^ = Matches the start of the string . called Caret .\n",
    "# [-+]? = or 1 occurrences . 0 if iit's a positive number else 1\n",
    "# [0-9]* = 0 or more occurrences of any [0-9] which means a range of(0,9) , as it's not required to find digit before . ex (.99) \n",
    "# [0-9]+ = one or more occurrences of 0-9 , there must be a digit\n",
    "# \\. = '.' char\n",
    "# $ = Matches the end \n",
    "# re.compile(pattern, flags=0)\n",
    "sub = re.compile('^[-+]?[0-9]*\\.[0-9]+$')\n",
    "\n",
    "for _ in range(int(input())):\n",
    "    # re.match(pattern, string, flags=0  :: modifiers) ->  match object\n",
    "    print(bool(re.match(sub , input())))\n"
   ]
  },
  {
   "cell_type": "markdown",
   "metadata": {},
   "source": [
    "# Question 2"
   ]
  },
  {
   "cell_type": "markdown",
   "metadata": {},
   "source": [
    "### Re.split()\n",
    "\n"
   ]
  },
  {
   "cell_type": "code",
   "execution_count": 2,
   "metadata": {},
   "outputs": [
    {
     "name": "stdout",
     "output_type": "stream",
     "text": [
      "100,000,000.000\n",
      "100\n",
      "000\n",
      "000\n",
      "000\n"
     ]
    }
   ],
   "source": [
    "# [.,]+ = one or more occurrences of . and ,\n",
    "pat = r\"[.,]+\" \n",
    "\n",
    "# string_name.join(iterable) -> str\n",
    "#re.split(pattern, string, maxsplit=0, flags=0) \n",
    "print(\"\\n\".join(re.split(pat, input())))"
   ]
  },
  {
   "cell_type": "markdown",
   "metadata": {},
   "source": [
    "# Question 3"
   ]
  },
  {
   "cell_type": "markdown",
   "metadata": {},
   "source": [
    "### Group(), Groups() & Groupdict()\n",
    "\n"
   ]
  },
  {
   "cell_type": "code",
   "execution_count": 21,
   "metadata": {},
   "outputs": [
    {
     "name": "stdout",
     "output_type": "stream",
     "text": [
      "...commit\n",
      "m\n"
     ]
    }
   ],
   "source": [
    "# [a-zA-Z0-9] = Matches any alphanumeric \n",
    "# \\\\1 = for repetition\n",
    "# re.search(pat , str , flag = 0)\n",
    "k = re.search(\"([a-zA-Z0-9])\\\\1+\", input()) \n",
    "\n",
    "# Pattern.groups(number=0) ,returns the part of the string where there was a match\n",
    "# k.group(1) to return the first match\n",
    "print(k.group(1) if k else -1)"
   ]
  },
  {
   "cell_type": "markdown",
   "metadata": {},
   "source": [
    "# Question 4"
   ]
  },
  {
   "cell_type": "markdown",
   "metadata": {},
   "source": [
    "### Re.findall() & Re.finditer()\n",
    "\n"
   ]
  },
  {
   "cell_type": "code",
   "execution_count": 3,
   "metadata": {},
   "outputs": [
    {
     "name": "stdout",
     "output_type": "stream",
     "text": [
      "rabcdeefgyYhFjkIoomnpOeorteeeeet\n",
      "ee\n",
      "Ioo\n",
      "Oeo\n",
      "eeeee\n"
     ]
    }
   ],
   "source": [
    "import re\n",
    "notvol = 'qwrtypsdfghjklzxcvbnm'\n",
    "vol = 'aeiou'\n",
    "\n",
    "# (?<=['+notvol+']) =  Matches if the current position in the string is preceded by a match for notvol\n",
    "# (['+vol+']{2,}) = {n,m} if occerance of vol is more than 2\n",
    "# flags = re.IGNORECASE = to ignore the upper and lower case\n",
    "#(?=['+notvol+']) = only match if it’s followed by notvol\n",
    "\n",
    "#re.findall(pattern, string, flags=0 ) -> list\n",
    "m = re.findall(r'(?<=['+notvol+'])(['+vol+']{2,})(?=['+notvol+'])',input(),flags = re.IGNORECASE)\n",
    "\n",
    "# if no atching print -1\n",
    "print(*m if m else -1 , sep='\\n')"
   ]
  },
  {
   "cell_type": "markdown",
   "metadata": {},
   "source": [
    "# Question 5"
   ]
  },
  {
   "cell_type": "markdown",
   "metadata": {},
   "source": [
    "### Re.start() & Re.end()\n",
    "\n"
   ]
  },
  {
   "cell_type": "code",
   "execution_count": 4,
   "metadata": {},
   "outputs": [
    {
     "name": "stdout",
     "output_type": "stream",
     "text": [
      "danan \n",
      "bb\n",
      "(-1, -1)\n"
     ]
    }
   ],
   "source": [
    "import re\n",
    "s = input()\n",
    "k = input()\n",
    "\n",
    "# re.finditer(pattern, string, flags=0) -> an iterator yielding match objects\n",
    "m = re.finditer(r'(?=('+ k +'))', s) \n",
    "for i in m :\n",
    "    # Match.start / end ([group]) -> return index\n",
    "    print((i.start() , i.end(1)-1))\n",
    "# if the loop is not executed and we m was NoneType\n",
    "else :\n",
    "    print((-1 ,-1))"
   ]
  },
  {
   "cell_type": "markdown",
   "metadata": {},
   "source": [
    "# Question 6"
   ]
  },
  {
   "cell_type": "markdown",
   "metadata": {},
   "source": [
    "### Regex Substitution\n",
    "\n"
   ]
  },
  {
   "cell_type": "code",
   "execution_count": 12,
   "metadata": {},
   "outputs": [
    {
     "name": "stdout",
     "output_type": "stream",
     "text": [
      "11\n",
      "a = 1\n",
      "a = 1\n",
      "b = input();\n",
      "b = input();\n",
      "if a + b > 0 && a - b < 0:\n",
      "if a + b > 0 and a - b < 0:\n",
      "    start()\n",
      "    start()\n",
      "elif a*b > 10 || a/b < 1:     stop()\n",
      "elif a*b > 10 or a/b < 1:     stop()\n",
      "elif a*b > 10 || a/b < 1:     stop()\n",
      "elif a*b > 10 or a/b < 1:     stop()\n",
      "print set(list(a)) | set(list(b)) \n",
      "print set(list(a)) | set(list(b)) \n",
      "#Note do not change &&& or ||| or & or |\n",
      "#Note do not change &&& or ||| or & or |\n",
      "#Only change those '|| which have space on both sides.\n",
      "#Only change those '|| which have space on both sides.\n",
      "#Only change those '&&' which have space on both sides.\n",
      "#Only change those '&&' which have space on both sides.\n",
      "print set(list(a)) | set(list(b)) \n",
      "print set(list(a)) | set(list(b)) \n"
     ]
    }
   ],
   "source": [
    "for i in range(int(input())):\n",
    "    S = ''\n",
    "    \n",
    "    ##  re.sub(pattern, repl, string[, count, flags]) -> returns new string with all replacements,\n",
    "    S = re.sub(r'(?<= )&&(?= )','and',input())\n",
    "    S = re.sub(r'(?<= )\\|\\|(?= )','or',S)\n",
    "    print (S)"
   ]
  },
  {
   "cell_type": "markdown",
   "metadata": {},
   "source": [
    "# Question 7"
   ]
  },
  {
   "cell_type": "markdown",
   "metadata": {},
   "source": [
    "### Validating Roman Numerals\n",
    "\n"
   ]
  },
  {
   "cell_type": "code",
   "execution_count": 5,
   "metadata": {},
   "outputs": [
    {
     "name": "stdout",
     "output_type": "stream",
     "text": [
      "CDXXI\n",
      "True\n"
     ]
    }
   ],
   "source": [
    "exp = r\"^M{0,3}(CM|CD|D?C{0,3})(XC|XL|L?X{0,3})(IX|IV|V?I{0,3})$\"\n",
    "\n",
    "# re.search(pattern, string, flags=0) -> return a corresponding match object. search anywhere in the string\n",
    "print(bool(re.search(exp , input())))"
   ]
  },
  {
   "cell_type": "markdown",
   "metadata": {},
   "source": [
    "# Question 8"
   ]
  },
  {
   "cell_type": "markdown",
   "metadata": {},
   "source": [
    "### Validating phone numbers\n",
    "\n"
   ]
  },
  {
   "cell_type": "code",
   "execution_count": 6,
   "metadata": {},
   "outputs": [
    {
     "name": "stdout",
     "output_type": "stream",
     "text": [
      "2\n",
      "01118989\n",
      "NO\n",
      "9781234500\n",
      "YES\n"
     ]
    }
   ],
   "source": [
    "\"\"\"\n",
    "for i in range(int(input())):\n",
    "# re.match(pattern, string, flags=0) -> return a corresponding match object. search only at the beginning of the string\n",
    "\n",
    "  print('YES' if re.match('^[7-9][0-9]{9}$', input()) else 'NO')\n",
    "\"\"\"\n",
    "for i in range(int(input())):\n",
    "    s = input()\n",
    "    print(['NO' , 'YES'][len(s)==10 and s.isdigit() and s[0] in '789'])"
   ]
  },
  {
   "cell_type": "markdown",
   "metadata": {},
   "source": [
    "# Question 9"
   ]
  },
  {
   "cell_type": "markdown",
   "metadata": {},
   "source": [
    "### Validating and Parsing Email Addresses\n",
    "\n"
   ]
  },
  {
   "cell_type": "code",
   "execution_count": 9,
   "metadata": {},
   "outputs": [
    {
     "name": "stdout",
     "output_type": "stream",
     "text": [
      "3\n",
      "lara@hackerrank.com\n",
      "britts_54@hackerrank.com\n",
      "brian-23@hackerrank.com\n",
      "['brian-23@hackerrank.com', 'britts_54@hackerrank.com', 'lara@hackerrank.com']\n"
     ]
    }
   ],
   "source": [
    "import re\n",
    "def fun(s):\n",
    "    # return True if s is a valid email, else return False\n",
    "    email_regex = re.compile(r'^[a-z0-9_-]+@[a-z0-9]+\\.[a-z]{1,3}$')\n",
    "    return re.match(email_regex, s)  != None\n",
    "   \n",
    "\n",
    "def filter_mail(emails):\n",
    "    #filter(function, sequence) -> return a filtered iterator\n",
    "    return list(filter(fun, emails))\n",
    "\n",
    "if __name__ == '__main__':\n",
    "    n = int(input())\n",
    "    emails = []\n",
    "    ## to add only valid emails\n",
    "    for _ in range(n):\n",
    "        emails.append(input())\n",
    "\n",
    "filtered_emails = filter_mail(emails)\n",
    "# sort(obj , key , reverse = true) -> obj\n",
    "filtered_emails.sort()\n",
    "print(filtered_emails)"
   ]
  },
  {
   "cell_type": "markdown",
   "metadata": {},
   "source": [
    "# Question 10"
   ]
  },
  {
   "cell_type": "markdown",
   "metadata": {},
   "source": [
    "### Map and Lambda Function\n",
    "\n"
   ]
  },
  {
   "cell_type": "code",
   "execution_count": 8,
   "metadata": {},
   "outputs": [
    {
     "name": "stdout",
     "output_type": "stream",
     "text": [
      "5\n",
      "[0, 1, 1, 8, 27]\n"
     ]
    }
   ],
   "source": [
    "## lambda arg ::: any number of arguments : exp :: only one expression\n",
    "cube = lambda x : x**3\n",
    "\n",
    "def fibonacci(n):\n",
    "    # return a list of fibonacci numbers\n",
    "    l = [ 0 , 1]\n",
    "    # range(str , end , inc)\n",
    "    for i in range(2, n):\n",
    "        l.append(l[i-1] + l[i-2])\n",
    "    return(l[:n])\n",
    "\n",
    "if __name__ == '__main__':\n",
    "    n = int(input())\n",
    "    # map(fun , iter) -> obj\n",
    "    print(list(map(cube, fibonacci(n))))"
   ]
  },
  {
   "cell_type": "markdown",
   "metadata": {},
   "source": [
    "# Question 11"
   ]
  },
  {
   "cell_type": "markdown",
   "metadata": {},
   "source": [
    "### Reduce Function\n",
    "\n"
   ]
  },
  {
   "cell_type": "code",
   "execution_count": 13,
   "metadata": {},
   "outputs": [
    {
     "name": "stdout",
     "output_type": "stream",
     "text": [
      "3\n",
      "1 2\n",
      "3 4\n",
      "10 6\n",
      "5 8\n"
     ]
    }
   ],
   "source": [
    "from fractions import Fraction\n",
    "from functools import reduce\n",
    "\n",
    "def product(fracs):\n",
    "    t = Fraction(reduce(lambda x, y: x * y, fracs))\n",
    "    return t.numerator, t.denominator\n",
    "if __name__ == '__main__':\n",
    "    fracs = []\n",
    "    for _ in range(int(input())):\n",
    "        fracs.append(Fraction(*map(int, input().split())))\n",
    "    result = product(fracs)\n",
    "    print(*result)"
   ]
  },
  {
   "cell_type": "markdown",
   "metadata": {},
   "source": [
    "# Question 12"
   ]
  },
  {
   "cell_type": "markdown",
   "metadata": {},
   "source": [
    "### Hex Color Code\n",
    "\n"
   ]
  },
  {
   "cell_type": "code",
   "execution_count": 4,
   "metadata": {},
   "outputs": [
    {
     "name": "stdout",
     "output_type": "stream",
     "text": [
      "11\n",
      "#BED\n",
      "{\n",
      "    color: #FfFdF8; background-color:#aef;\n",
      "FfFdF8\n",
      "    font-size: 123px;\n",
      "    background: -webkit-linear-gradient(top, #f9f9f9, #fff);\n",
      "f9f9f9\n",
      "}\n",
      "#Cab\n",
      "{\n",
      "    background-color: #ABCF;\n",
      "    border: 2px dashed #fff;\n",
      "}\n"
     ]
    }
   ],
   "source": [
    "import re\n",
    "css = False\n",
    "for i in range(int(input())):\n",
    "    s = input()\n",
    "    # just to begin to check\n",
    "    if '{' in s:\n",
    "        css = True\n",
    "    # out of scope\n",
    "    elif '}' in s:\n",
    "        css = False\n",
    "        \n",
    "    elif css:\n",
    "        # pattern is 3 or 6 digits , digits ca be 0-9 a-f A-F\n",
    "        # | = OR\n",
    "        for color in re.findall('#([0-9a-fA-F]{6} | [0-9a-fA-F]{3})', s):\n",
    "            print (color)"
   ]
  },
  {
   "cell_type": "markdown",
   "metadata": {},
   "source": [
    "# Qestion 13"
   ]
  },
  {
   "cell_type": "markdown",
   "metadata": {},
   "source": [
    "### Validating UID\n",
    "\n",
    "\n"
   ]
  },
  {
   "cell_type": "code",
   "execution_count": 5,
   "metadata": {},
   "outputs": [
    {
     "name": "stdout",
     "output_type": "stream",
     "text": [
      "2\n",
      "B1CD102354 \n",
      "Invalid\n",
      "B1CDEF2354\n",
      "Valid\n"
     ]
    }
   ],
   "source": [
    "import re\n",
    "\n",
    "for i in range(int(input())):\n",
    "    s = input()\n",
    "    # string_name.isalnum()\n",
    "    if s.isalnum() and len(s) == 10:\n",
    "        # to check case 1 , 2 and 3\n",
    "        # [A-Z] = chr in range of A to Z\n",
    "        # ([A-Z]){2,} = to to specify its minimum occurrence to 2\n",
    "        # [0-9] = digit in range of 0 to 9\n",
    "        # ([0-9]){3,} = to to specify its minimum occurrence to 3\n",
    "        if bool(re.search(r'([A-Z]){2,}',s)) and bool(re.search(r'([0-9]){3,}',s)):\n",
    "            # No character should repeat .\n",
    "            if re.search(r'.*(.).*\\1+.*',s):\n",
    "                print ('Invalid')\n",
    "            else:\n",
    "                print ('Valid')\n",
    "        else:\n",
    "            print ('Invalid')\n",
    "    else:\n",
    "        print ('Invalid')\n"
   ]
  },
  {
   "cell_type": "markdown",
   "metadata": {},
   "source": [
    "# Question 14"
   ]
  },
  {
   "cell_type": "markdown",
   "metadata": {},
   "source": [
    "### Validating Credit Card Numbers\n",
    "\n"
   ]
  },
  {
   "cell_type": "code",
   "execution_count": 7,
   "metadata": {},
   "outputs": [
    {
     "name": "stdout",
     "output_type": "stream",
     "text": [
      "6\n",
      "4123456789123456\n",
      "Valid\n",
      "5123-4567-8912-3456\n",
      "Valid\n",
      "61234-567-8912-3456\n",
      "Invalid\n",
      "4123356789123456\n",
      "Valid\n",
      "5123 - 3567 - 8912 - 3456\n",
      "Invalid\n",
      "5133-3367-8912-3456\n",
      "Valid\n"
     ]
    }
   ],
   "source": [
    "\"\"\"import re\n",
    "for i in range(int(input())):\n",
    "    S = input()\n",
    "    m = re.search(r'^[456]\\d{3}(-?)\\d{4}\\1\\d{4}\\1\\d{4}$',S)\n",
    "    if m:\n",
    "        s = \"\".join(m.group(0).split('-'))\n",
    "        f = re.search(r'(\\d)\\1{3,}',s)\n",
    "        print ('Invalid' if f else 'Valid')\n",
    "    else:\n",
    "        print('Invalid')\"\"\"\n",
    "def is_valid_card(s):\n",
    "    \n",
    "    if s[0] not in ('4', '5', '6'):\n",
    "        return 'Invalid'\n",
    "    if ' ' in s or '_' in s:\n",
    "        return 'Invalid'\n",
    "    \n",
    "    v = False\n",
    "    if re.match(r'^\\d{16}$', s):\n",
    "        v = True\n",
    "    if re.match(r'^\\d{4}\\-\\d{4}\\-\\d{4}-\\d{4}$', s):\n",
    "        v = True\n",
    "    if v:\n",
    "        if re.search(r'(.)\\1{3,}', s.replace('-' ,'')):\n",
    "            v = False\n",
    "    return 'Valid' if v else 'Invalid'\n",
    "\n",
    "n = int(input())\n",
    "for i in range(n):\n",
    "    print (is_valid_card(input()))"
   ]
  },
  {
   "cell_type": "markdown",
   "metadata": {},
   "source": [
    "# Quetion 15"
   ]
  },
  {
   "cell_type": "markdown",
   "metadata": {},
   "source": [
    "### Validating Postal Codes\n",
    "\n"
   ]
  },
  {
   "cell_type": "code",
   "execution_count": null,
   "metadata": {},
   "outputs": [],
   "source": [
    "#110000\n",
    "\n",
    "regex_integer_in_range = r'^[1-9][\\d]{5}$' \n",
    "regex_alternating_repetitive_digit_pair = r'(\\d)(?=\\d\\1)'"
   ]
  },
  {
   "cell_type": "code",
   "execution_count": 10,
   "metadata": {},
   "outputs": [
    {
     "name": "stdout",
     "output_type": "stream",
     "text": [
      "110000\n",
      "False\n"
     ]
    }
   ],
   "source": [
    "def in_range(S):\n",
    "    return S.isdigit() and int(S) in range(100000 , 999999)\n",
    "\n",
    "def Solve():\n",
    "    S = input()\n",
    "    if not in_range(S):\n",
    "        return False\n",
    "    for i in range(4): # O(1)\n",
    "        if S[i] == S[i+2]:\n",
    "            return False\n",
    "    return True\n",
    "print(Solve())\n",
    "    \n",
    "    "
   ]
  },
  {
   "cell_type": "markdown",
   "metadata": {},
   "source": [
    "# Question 16"
   ]
  },
  {
   "cell_type": "code",
   "execution_count": 13,
   "metadata": {},
   "outputs": [
    {
     "name": "stdout",
     "output_type": "stream",
     "text": [
      "7 3\n",
      "Tsi\n",
      "h%x\n",
      "i #\n",
      "sM\n",
      "$a\n",
      "#t%\n",
      "ir!\n",
      "[('T', 'h', 'i', 's', '$', '#', 'i'), ('s', '%', ' ', 'M', 'a', 't', 'r')]\n",
      " This is Matr\n"
     ]
    }
   ],
   "source": [
    "#!/bin/python3\n",
    "\n",
    "import math\n",
    "import os\n",
    "import random\n",
    "import re\n",
    "import sys\n",
    "\n",
    "\n",
    "l = [] \n",
    "S =' '\n",
    "n , m = map(int , input().split())\n",
    "for i in range(n):\n",
    "    l.append(list(input()))\n",
    "l = list(zip(*l))\n",
    "print(l)\n",
    "for i in l:\n",
    "    for j in i:\n",
    "        S += j\n",
    "\n",
    "\n",
    "print(re.sub(r'(?<=\\w)([^\\w\\d]+)(?=\\w)', ' ', S))\n"
   ]
  },
  {
   "cell_type": "code",
   "execution_count": 14,
   "metadata": {},
   "outputs": [],
   "source": [
    "### Matrix Script\n",
    "\n"
   ]
  },
  {
   "cell_type": "code",
   "execution_count": null,
   "metadata": {},
   "outputs": [],
   "source": []
  }
 ],
 "metadata": {
  "kernelspec": {
   "display_name": "Python 3",
   "language": "python",
   "name": "python3"
  },
  "language_info": {
   "codemirror_mode": {
    "name": "ipython",
    "version": 3
   },
   "file_extension": ".py",
   "mimetype": "text/x-python",
   "name": "python",
   "nbconvert_exporter": "python",
   "pygments_lexer": "ipython3",
   "version": "3.7.0"
  }
 },
 "nbformat": 4,
 "nbformat_minor": 2
}
