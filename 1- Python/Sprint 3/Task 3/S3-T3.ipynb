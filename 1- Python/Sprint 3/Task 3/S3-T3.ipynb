{
 "cells": [
  {
   "cell_type": "markdown",
   "metadata": {},
   "source": [
    "# Question 1"
   ]
  },
  {
   "cell_type": "markdown",
   "metadata": {},
   "source": [
    "### Calendar Module\n",
    "\n"
   ]
  },
  {
   "cell_type": "markdown",
   "metadata": {},
   "source": [
    "A single line of input containing the space separated month, day and year, respectively, in MM DD YY  format.\n",
    "\n"
   ]
  },
  {
   "cell_type": "code",
   "execution_count": 2,
   "metadata": {},
   "outputs": [
    {
     "name": "stdout",
     "output_type": "stream",
     "text": [
      "08 05 2015\n",
      "WEDNESDAY\n"
     ]
    }
   ],
   "source": [
    "import calendar as c\n",
    "\n",
    "# By default, these calendars have Monday as the first day of the week, and Sunday as the last \n",
    "tmp = ['Monday', 'Tuesday', 'Wednesday', 'Thursday', 'Friday', 'Saturday', 'Sunday']\n",
    "# map (fun , exp)\n",
    "month , day , year  = map(int , input().split())\n",
    "\n",
    "# calendar.weekday(year, month, day) -> Returns the number day of the week \n",
    "day_number = c.weekday(year , month , day)\n",
    "print(tmp[day_number].upper())"
   ]
  },
  {
   "cell_type": "markdown",
   "metadata": {},
   "source": [
    "# Question 2"
   ]
  },
  {
   "cell_type": "markdown",
   "metadata": {},
   "source": [
    "### Time Delta\n",
    "\n"
   ]
  },
  {
   "cell_type": "code",
   "execution_count": 5,
   "metadata": {},
   "outputs": [
    {
     "name": "stdout",
     "output_type": "stream",
     "text": [
      "1\n",
      "Sun 10 May 2015 13:54:36 -0700\n",
      "Sun 10 May 2015 13:54:36 -0000\n",
      "25200\n"
     ]
    }
   ],
   "source": [
    "from datetime import datetime\n",
    "for _ in range(int(input())):\n",
    "    \n",
    "    # strptime (str or code format) to create datetime object from string.\n",
    "    t1 = datetime.strptime(input(), '%a %d %b %Y %H:%M:%S %z')\n",
    "    t2 = datetime.strptime(input(), '%a %d %b %Y %H:%M:%S %z')\n",
    "    \n",
    "    #Returns the duration represented by the timedelta object as number of seconds and <<< takes no parameters>>>\n",
    "    print(abs(int((t1-t2).total_seconds())))"
   ]
  },
  {
   "cell_type": "markdown",
   "metadata": {},
   "source": [
    "# Question 3"
   ]
  },
  {
   "cell_type": "markdown",
   "metadata": {},
   "source": [
    "### Exceptions\n",
    "\n"
   ]
  },
  {
   "cell_type": "markdown",
   "metadata": {},
   "source": [
    "You are given two values a and b .\n",
    "Perform integer division and print a / b."
   ]
  },
  {
   "cell_type": "code",
   "execution_count": 3,
   "metadata": {},
   "outputs": [
    {
     "name": "stdout",
     "output_type": "stream",
     "text": [
      "3\n",
      "1 $\n",
      "Error Code: invalid literal for int() with base 10: '$'\n",
      "1 0\n",
      "Error Code: integer division or modulo by zero\n",
      "3 1\n",
      "3\n"
     ]
    }
   ],
   "source": [
    "for i in range(int(input())):\n",
    "    # str.split(separator, maxsplit) -> list\n",
    "    a , b = input().split() ## note we cnt map to int\n",
    "    try :\n",
    "        print(int(a) // int(b))\n",
    "    except Exception as e:\n",
    "        print(\"Error Code: \"+ str(e))"
   ]
  },
  {
   "cell_type": "markdown",
   "metadata": {},
   "source": [
    "# Question 4"
   ]
  },
  {
   "cell_type": "markdown",
   "metadata": {},
   "source": [
    "## Incorrect Regex\n"
   ]
  },
  {
   "cell_type": "code",
   "execution_count": 6,
   "metadata": {},
   "outputs": [
    {
     "name": "stdout",
     "output_type": "stream",
     "text": [
      "2\n",
      ".*\\+\n",
      "True\n",
      ".*+\n",
      "False\n"
     ]
    }
   ],
   "source": [
    "import re\n",
    "def solve():\n",
    "    try:\n",
    "        s = input()\n",
    "        # re.compile(pattern , str, flags=0) \n",
    "        re.compile(s)\n",
    "        \n",
    "    except:\n",
    "        return False\n",
    "    return True\n",
    "\n",
    "for i in range(int(input())):\n",
    "    print(solve())\n"
   ]
  },
  {
   "cell_type": "markdown",
   "metadata": {},
   "source": [
    "# Question 5"
   ]
  },
  {
   "cell_type": "markdown",
   "metadata": {},
   "source": [
    "### Class 2 - Find the Torsional Angle\n",
    "\n"
   ]
  },
  {
   "cell_type": "code",
   "execution_count": 10,
   "metadata": {},
   "outputs": [
    {
     "name": "stdout",
     "output_type": "stream",
     "text": [
      "0 4 9\n",
      "1 7 6\n",
      "0 5 9\n",
      "1 7 2\n",
      "31.95\n"
     ]
    }
   ],
   "source": [
    "import math\n",
    "class Points(object):\n",
    "    def __init__(self, x, y, z):\n",
    "        self.x = x\n",
    "        self.y = y\n",
    "        self.z = z\n",
    "    def __sub__(self, no):\n",
    "        x = self.x - no.x\n",
    "        y = self.y - no.y\n",
    "        z = self.z - no.z\n",
    "        ## to assign the new val to x ,y and z\n",
    "        return Points(x , y , z)\n",
    "\n",
    "    def dot(self, no):\n",
    "        x = self.x * no.x\n",
    "        y = self.y * no.y\n",
    "        z =self.z * no.z\n",
    "        return x + y + z\n",
    "\n",
    "    def cross(self, no):\n",
    "        x =self.y * no.z - self.z *no.y\n",
    "        y = self.z * no.x - self.x * no.z\n",
    "        z = self.x * no.y - self.y * no.x\n",
    "        return Points(x , y , z)\n",
    "\n",
    "    def absolute(self):\n",
    "        return pow((self.x ** 2 + self.y ** 2 + self.z ** 2), 0.5)\n",
    "\n",
    "if __name__ == '__main__':\n",
    "    points = list()\n",
    "    for i in range(4):\n",
    "        a = list(map(float, input().split()))\n",
    "        points.append(a)\n",
    "\n",
    "    a, b, c, d = Points(*points[0]), Points(*points[1]), Points(*points[2]), Points(*points[3])\n",
    "    x = (b - a).cross(c - b)\n",
    "    y = (c - b).cross(d - c)\n",
    "    # math.acos(x) -> Return the arc cosine of x, in radians.\n",
    "    x = x.dot(y) / (x.absolute() * y.absolute())\n",
    "    angle = math.acos(x)\n",
    "    # .2f = to keep 2 digits after the . point\n",
    "    #math.degrees(x) -> Convert angle x from radians to degrees.\n",
    "    print(\"%.2f\" % math.degrees(angle))"
   ]
  },
  {
   "cell_type": "markdown",
   "metadata": {},
   "source": [
    "# Question 6"
   ]
  },
  {
   "cell_type": "markdown",
   "metadata": {},
   "source": [
    "### Classes: Dealing with Complex Numbers\n",
    "\n"
   ]
  },
  {
   "cell_type": "code",
   "execution_count": 3,
   "metadata": {},
   "outputs": [
    {
     "name": "stdout",
     "output_type": "stream",
     "text": [
      "2 1\n",
      "5 6\n",
      "7.00+7.00i\n",
      "-3.00-5.00i\n",
      "4.00+17.00i\n",
      "0.26-0.11i\n",
      "2.24+0.00i\n",
      "7.81+0.00i\n"
     ]
    }
   ],
   "source": [
    "\n",
    "\n",
    "class Complex(object):\n",
    "    def __init__(self, real, imaginary):\n",
    "        self.r = real\n",
    "        self.i = imaginary\n",
    "        \n",
    "    def __add__(self, no):\n",
    "        r = self.r + no.r\n",
    "        i = self.i + no.i\n",
    "        # to update  the val of r and i\n",
    "        return Complex(r , i)\n",
    "        \n",
    "    def __sub__(self, no):\n",
    "        r = self.r - no.r\n",
    "        i = self.i - no.i\n",
    "        # to update  the val of r and i\n",
    "        return Complex(r , i)\n",
    "        \n",
    "    def __mul__(self, no):\n",
    "        r = self.r * no.r - self.i * no.i\n",
    "        i = self.r * no.i + self.i * no.r\n",
    "        # to update  the val of r and i\n",
    "        return Complex(r, i)\n",
    "        \n",
    "\n",
    "    def __truediv__(self, no):\n",
    "        # math.float(x) -> Return a floating point number constructed from a number or string x.\n",
    "        x = float(no.r ** 2 + no.i ** 2)\n",
    "        y = self * Complex(no.r, -no.i)\n",
    "        real = y.r / x\n",
    "        imaginary = y.i / x\n",
    "        # to update the val of i and r to real and imaginary\n",
    "        return Complex(real, imaginary)\n",
    "\n",
    "\n",
    "    def mod(self):\n",
    "        r = math.sqrt(self.r ** 2 + self.i ** 2)\n",
    "        # to update the val of i and r to r and 0\n",
    "        return Complex(r, 0)\n",
    "\n",
    "    def __str__(self):\n",
    "        if self.i == 0:\n",
    "            result = \"%.2f+0.00i\" % (self.r)\n",
    "        elif self.r == 0:\n",
    "            if self.i >= 0:\n",
    "                result = \"0.00+%.2fi\" % (self.i)\n",
    "            else:\n",
    "                result = \"0.00-%.2fi\" % (abs(self.i))\n",
    "        elif self.i > 0:\n",
    "            result = \"%.2f+%.2fi\" % (self.r, self.i)\n",
    "        else:\n",
    "            result = \"%.2f-%.2fi\" % (self.r, abs(self.i))\n",
    "        return result\n",
    "\"\"\"\n",
    "2 1\n",
    "5 6\n",
    "Sample Output\n",
    "\n",
    "7.00+7.00i\n",
    "-3.00-5.00i\n",
    "4.00+17.00i\n",
    "0.26-0.11i\n",
    "2.24+0.00i\n",
    "7.81+0.00i\n",
    "\"\"\"\n",
    "if __name__ == '__main__':\n",
    "    c = map(float, input().split())\n",
    "    d = map(float, input().split())\n",
    "    x = Complex(*c)\n",
    "    y = Complex(*d)\n",
    "    print(*map(str, [x+y, x-y, x*y, x/y, x.mod(), y.mod()]), sep='\\n')\n"
   ]
  },
  {
   "cell_type": "markdown",
   "metadata": {},
   "source": [
    "# Question 7"
   ]
  },
  {
   "cell_type": "markdown",
   "metadata": {},
   "source": [
    "### Zipped !"
   ]
  },
  {
   "cell_type": "code",
   "execution_count": 14,
   "metadata": {},
   "outputs": [
    {
     "name": "stdout",
     "output_type": "stream",
     "text": [
      "5 3\n",
      "89 90 78 93 80\n",
      "90 91 85 88 86  \n",
      "91 92 83 89 90.5\n",
      "90.0\n",
      "91.0\n",
      "82.0\n",
      "90.0\n",
      "85.5\n"
     ]
    }
   ],
   "source": [
    "n , x =map(int , input().split())\n",
    "l =[]\n",
    "for i in range(x):\n",
    "    a=list(map (float , input().split()))\n",
    "    l+=[a]\n",
    "\n",
    "# zip(*iterators) -> a single iterator object\n",
    "for i in zip(*l):\n",
    "    print(sum(i)/len(i))\n"
   ]
  },
  {
   "cell_type": "markdown",
   "metadata": {},
   "source": [
    "# Question 8"
   ]
  },
  {
   "cell_type": "markdown",
   "metadata": {},
   "source": [
    "### Input()\n",
    "\n"
   ]
  },
  {
   "cell_type": "code",
   "execution_count": null,
   "metadata": {},
   "outputs": [],
   "source": [
    "a = raw_input().split()\n",
    "\n",
    "print input() == int(a[1])"
   ]
  },
  {
   "cell_type": "markdown",
   "metadata": {},
   "source": [
    "# Question 9"
   ]
  },
  {
   "cell_type": "markdown",
   "metadata": {},
   "source": [
    "### Python Evaluation\n",
    "\n"
   ]
  },
  {
   "cell_type": "code",
   "execution_count": 9,
   "metadata": {},
   "outputs": [
    {
     "name": "stdout",
     "output_type": "stream",
     "text": [
      "print(2+4)\n",
      "6\n"
     ]
    }
   ],
   "source": [
    "s = input()\n",
    "# in mathematical expressions\n",
    "# eval(expression, globals=None, locals=None)eval(s)\n",
    "eval(s)"
   ]
  },
  {
   "cell_type": "markdown",
   "metadata": {},
   "source": [
    "# Question 10"
   ]
  },
  {
   "cell_type": "markdown",
   "metadata": {},
   "source": [
    "### Any or All\n",
    "\n"
   ]
  },
  {
   "cell_type": "code",
   "execution_count": 19,
   "metadata": {},
   "outputs": [
    {
     "name": "stdout",
     "output_type": "stream",
     "text": [
      "9\n",
      "1 2 3 4 5 -9\n",
      "False\n"
     ]
    }
   ],
   "source": [
    "import math \n",
    "def rev(num): \n",
    "    return  str(num) == str(num)[::-1]\n",
    "input()\n",
    "l = list(map(int ,input().split()))\n",
    "# all = same as and\n",
    "if all(i>0 for i in l):\n",
    "    # any same as or\n",
    "    print(any(rev(j) for j in l))\n",
    "else :\n",
    "    print(False)\n"
   ]
  },
  {
   "cell_type": "markdown",
   "metadata": {},
   "source": [
    "# Question 11"
   ]
  },
  {
   "cell_type": "markdown",
   "metadata": {},
   "source": [
    "## ginortS\n"
   ]
  },
  {
   "cell_type": "code",
   "execution_count": 1,
   "metadata": {},
   "outputs": [
    {
     "name": "stdout",
     "output_type": "stream",
     "text": [
      "Sorting1234\n",
      "ginortS1324\n"
     ]
    }
   ],
   "source": [
    "s = input()\n",
    "up ,low ,odd , even = [] , [] , [] , []\n",
    "for i in s :\n",
    "    if i.isupper():\n",
    "        up.append(i)\n",
    "    elif i.islower():\n",
    "        low.append(i)\n",
    "    elif int(i)%2 :\n",
    "        odd.append(int(i))\n",
    "    else :\n",
    "        even.append(int(i))\n",
    "# sort(obj , key , reverse = true)\n",
    "# string_name.join(iterable) \n",
    "print(''.join(sorted(low))+''.join(sorted(up))+''.join(str(i) for i in sorted(odd))+''.join(str(i) for i in sorted(even)))"
   ]
  },
  {
   "cell_type": "markdown",
   "metadata": {},
   "source": [
    "# Question 12"
   ]
  },
  {
   "cell_type": "markdown",
   "metadata": {},
   "source": [
    "### Athlete Sort\n",
    "\n"
   ]
  },
  {
   "cell_type": "code",
   "execution_count": 2,
   "metadata": {},
   "outputs": [
    {
     "name": "stdout",
     "output_type": "stream",
     "text": [
      "5 3\n",
      "10 2 5\n",
      "7 1 0\n",
      "9 9 9\n",
      "1 23 12\n",
      "6 9\n",
      "1\n",
      "7 1 0\n",
      "10 2 5\n",
      "9 9 9\n",
      "6 9\n",
      "1 23 12\n"
     ]
    }
   ],
   "source": [
    "#!/bin/python3\n",
    "\n",
    "import math\n",
    "import os\n",
    "import random\n",
    "import re\n",
    "import sys\n",
    "def AthleteSort(arr):\n",
    "    arr = sorted(arr , key= lambda x : x[k])\n",
    "    for i in arr :\n",
    "        print(*i , sep=' ')\n",
    "\n",
    "\n",
    "if __name__ == '__main__':\n",
    "    nm = input().split()\n",
    "\n",
    "    n = int(nm[0])\n",
    "\n",
    "    m = int(nm[1])\n",
    "\n",
    "    arr = []\n",
    "\n",
    "    for _ in range(n):\n",
    "        arr.append(list(map(int, input().rstrip().split())))\n",
    "\n",
    "    k = int(input())\n",
    "    AthleteSort(arr)\n"
   ]
  },
  {
   "cell_type": "code",
   "execution_count": null,
   "metadata": {},
   "outputs": [],
   "source": []
  }
 ],
 "metadata": {
  "kernelspec": {
   "display_name": "Python 3",
   "language": "python",
   "name": "python3"
  },
  "language_info": {
   "codemirror_mode": {
    "name": "ipython",
    "version": 3
   },
   "file_extension": ".py",
   "mimetype": "text/x-python",
   "name": "python",
   "nbconvert_exporter": "python",
   "pygments_lexer": "ipython3",
   "version": "3.7.0"
  }
 },
 "nbformat": 4,
 "nbformat_minor": 2
}
