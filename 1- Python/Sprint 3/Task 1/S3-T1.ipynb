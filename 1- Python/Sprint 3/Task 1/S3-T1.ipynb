{
 "cells": [
  {
   "cell_type": "markdown",
   "metadata": {},
   "source": [
    "# Question 1"
   ]
  },
  {
   "cell_type": "markdown",
   "metadata": {},
   "source": [
    "### itertools.product()\n",
    "\n"
   ]
  },
  {
   "cell_type": "markdown",
   "metadata": {},
   "source": [
    "You are given a two lists A and B. Your task is to compute their cartesian product A * B.\n",
    "\n"
   ]
  },
  {
   "cell_type": "code",
   "execution_count": 2,
   "metadata": {},
   "outputs": [
    {
     "name": "stdout",
     "output_type": "stream",
     "text": [
      "1 2\n",
      "3 4\n",
      "(1, 3)\n",
      "(1, 4)\n",
      "(2, 3)\n",
      "(2, 4)\n"
     ]
    }
   ],
   "source": [
    "\"\"\"\n",
    "a = list(map(int , input().split()))\n",
    "b = list(map(int , input().split()))\n",
    "for i in a :\n",
    "    for j in b :\n",
    "        print((i , j ) , end=' ')\n",
    "\"\"\"\n",
    "from itertools import product\n",
    "\n",
    "#map(fun, iter) -> list\n",
    "a = list(map(int , input().split()))\n",
    "b = list(map(int , input().split()))\n",
    "\n",
    "# itertools.product(*iterables, repeat=1)\n",
    "print(*list(product(a,b)) , sep='\\n')"
   ]
  },
  {
   "cell_type": "markdown",
   "metadata": {},
   "source": [
    "# Question 2"
   ]
  },
  {
   "cell_type": "markdown",
   "metadata": {},
   "source": [
    "### itertools.permutations()"
   ]
  },
  {
   "cell_type": "code",
   "execution_count": 14,
   "metadata": {},
   "outputs": [
    {
     "name": "stdout",
     "output_type": "stream",
     "text": [
      "HACK\n",
      "2\n",
      "AC\n",
      "AH\n",
      "AK\n",
      "CA\n",
      "CH\n",
      "CK\n",
      "HA\n",
      "HC\n",
      "HK\n",
      "KA\n",
      "KC\n",
      "KH\n"
     ]
    }
   ],
   "source": [
    "from itertools import permutations\n",
    "# str.split(separator, maxsplit)\n",
    "Z , N = input().split()\n",
    "\n",
    "#Permutations(iterator, r) :: 'r’ as default length of iterator and it's equal to the len of iterator as defualt\n",
    "print(*[''.join(i) for i in sorted(list(permutations(Z,int(N))))] , sep='\\n')"
   ]
  },
  {
   "cell_type": "markdown",
   "metadata": {},
   "source": [
    "# Question 3 "
   ]
  },
  {
   "cell_type": "markdown",
   "metadata": {},
   "source": [
    "### itertools.combinations()\n",
    "\n"
   ]
  },
  {
   "cell_type": "markdown",
   "metadata": {},
   "source": [
    "You are given a string S .\n",
    "Your task is to print all possible combinations, up to size k , of the string in lexicographic sorted order."
   ]
  },
  {
   "cell_type": "code",
   "execution_count": 25,
   "metadata": {},
   "outputs": [
    {
     "name": "stdout",
     "output_type": "stream",
     "text": [
      "HACK 2\n",
      "A\n",
      "C\n",
      "H\n",
      "K\n",
      "AC\n",
      "AH\n",
      "AK\n",
      "CH\n",
      "CK\n",
      "HK\n"
     ]
    }
   ],
   "source": [
    "from itertools import combinations\n",
    "\n",
    "s , n = input().split()\n",
    "\n",
    "for i in range(1 , int(n)+1):\n",
    "    # combinations(iterator, r) :: 'r’ as default length of iterator and it's equal to the len of iterator as defualt\n",
    "    for j in list(combinations(sorted(s),i)):\n",
    "        #string_name.join(iterable) \n",
    "        print(''.join(j))"
   ]
  },
  {
   "cell_type": "markdown",
   "metadata": {},
   "source": [
    "# Question 4"
   ]
  },
  {
   "cell_type": "markdown",
   "metadata": {},
   "source": [
    "### itertools.combinations_with_replacement()\n",
    "\n"
   ]
  },
  {
   "cell_type": "markdown",
   "metadata": {},
   "source": [
    "You are given a string S.\n",
    "Your task is to print all possible size K replacement combinations of the string in lexicographic sorted order.\n",
    "\n"
   ]
  },
  {
   "cell_type": "code",
   "execution_count": 26,
   "metadata": {},
   "outputs": [
    {
     "name": "stdout",
     "output_type": "stream",
     "text": [
      "HACK 2\n",
      "AA\n",
      "AC\n",
      "AH\n",
      "AK\n",
      "CC\n",
      "CH\n",
      "CK\n",
      "HH\n",
      "HK\n",
      "KK\n"
     ]
    }
   ],
   "source": [
    "from itertools import combinations_with_replacement\n",
    "\n",
    "s , n = input().split()\n",
    "\n",
    "# combinations_with_replacement(iterator, r) :: 'r’ as default length of iterator and it's equal to the len of iterator as defualt\n",
    "for i in sorted(list(combinations_with_replacement(sorted(s),int(n)))):\n",
    "    print(''.join(i))\n"
   ]
  },
  {
   "cell_type": "markdown",
   "metadata": {},
   "source": [
    "# Question 5"
   ]
  },
  {
   "cell_type": "code",
   "execution_count": 4,
   "metadata": {},
   "outputs": [
    {
     "name": "stdout",
     "output_type": "stream",
     "text": [
      "1222311\n",
      "(1, 1) (3, 2) (1, 3) (2, 1) "
     ]
    }
   ],
   "source": [
    "\"\"\"\n",
    "S = input()\n",
    "tmp= S[0]\n",
    "count = 0\n",
    "ans = []\n",
    "for i in S:\n",
    "    if i == tmp :\n",
    "        count += 1\n",
    "    else :\n",
    "        ans.append((count , int(tmp)))\n",
    "        tmp = i \n",
    "        count = 1\n",
    "ans.append((count , int(tmp)))\n",
    "print(*ans)       \n",
    "\"\"\"\n",
    "\n",
    "from itertools import groupby\n",
    "\n",
    "##itertools.groupby(iterable, key_func) :: return consecutive keys and groups\n",
    "for i,j in groupby(map(int,list(input()))):\n",
    "    print(((len(list(j)), i)) ,end = \" \")"
   ]
  },
  {
   "cell_type": "markdown",
   "metadata": {},
   "source": [
    "# Question 6"
   ]
  },
  {
   "cell_type": "markdown",
   "metadata": {},
   "source": [
    "### Iterables and Iterators\n",
    "\n"
   ]
  },
  {
   "cell_type": "code",
   "execution_count": 41,
   "metadata": {},
   "outputs": [
    {
     "name": "stdout",
     "output_type": "stream",
     "text": [
      "4\n",
      "a a c d\n",
      "2\n",
      "0.833333333333\n"
     ]
    }
   ],
   "source": [
    "n = int(input())\n",
    "s = input().split()\n",
    "k = int(input())\n",
    "ans = 0\n",
    "tmp = 0 # to track the len of combinations result\n",
    "for i in list(combinations(s, k)):\n",
    "    tmp +=1 \n",
    "    if 'a' in i :\n",
    "        ans +=1\n",
    "#round(number, number of digits)\n",
    "print(round(ans/tmp , 12) )"
   ]
  },
  {
   "cell_type": "markdown",
   "metadata": {},
   "source": [
    "# Question 7"
   ]
  },
  {
   "cell_type": "markdown",
   "metadata": {},
   "source": [
    "### Maximize It!\n",
    "\n"
   ]
  },
  {
   "cell_type": "code",
   "execution_count": 46,
   "metadata": {},
   "outputs": [
    {
     "name": "stdout",
     "output_type": "stream",
     "text": [
      "3 1000\n",
      "2 5 4\n",
      "3 7 8 9\n",
      "5 5 7 8 9 10\n",
      "206\n"
     ]
    }
   ],
   "source": [
    "from itertools import *\n",
    "\n",
    "K, M = map(int, input().split())\n",
    "\n",
    "prod = []\n",
    "# range(start , end , inc)\n",
    "for _ in range(K):\n",
    "    # name_list.append(object)\n",
    "    prod.append(list(map(int, input().split()))[1:])  # to skip the number of elements \n",
    "        \n",
    "MAX = -1\n",
    "for i in product(*N):\n",
    "    MAX = max(sum(map(lambda x: x**2, i))%M, MAX) \n",
    "    \n",
    "print(MAX)"
   ]
  },
  {
   "cell_type": "code",
   "execution_count": null,
   "metadata": {},
   "outputs": [],
   "source": []
  }
 ],
 "metadata": {
  "kernelspec": {
   "display_name": "Python 3",
   "language": "python",
   "name": "python3"
  },
  "language_info": {
   "codemirror_mode": {
    "name": "ipython",
    "version": 3
   },
   "file_extension": ".py",
   "mimetype": "text/x-python",
   "name": "python",
   "nbconvert_exporter": "python",
   "pygments_lexer": "ipython3",
   "version": "3.7.0"
  }
 },
 "nbformat": 4,
 "nbformat_minor": 2
}
